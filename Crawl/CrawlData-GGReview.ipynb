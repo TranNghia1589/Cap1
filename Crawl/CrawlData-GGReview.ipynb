{
 "cells": [
  {
   "cell_type": "code",
   "execution_count": 3,
   "metadata": {},
   "outputs": [],
   "source": [
    "import numpy as np\n",
    "import pandas as pd\n",
    "from time import sleep\n",
    "from selenium import webdriver\n",
    "from time import sleep\n",
    "from selenium.webdriver.common.keys import Keys\n",
    "import random\n",
    "from selenium.webdriver import ActionChains\n",
    "from webdriver_manager.chrome import ChromeDriverManager\n",
    "from selenium.common.exceptions import NoSuchElementException, ElementNotInteractableException\n",
    "from selenium.webdriver.common.by import By\n",
    "from selenium.webdriver.chrome.service import Service\n",
    "from selenium.webdriver.chrome.options import Options\n",
    "from selenium import webdriver\n",
    "from webdriver_manager.chrome import ChromeDriverManager\n"
   ]
  },
  {
   "cell_type": "code",
   "execution_count": 4,
   "metadata": {},
   "outputs": [],
   "source": [
    "# Cấu hình trình duyệt\n",
    "chrome_options = Options()\n",
    "chrome_options.add_argument(\"--disable-blink-features=AutomationControlled\")  # Giảm phát hiện bot\n",
    "chrome_options.add_argument(\"--start-maximized\")\n",
    "chrome_options.add_argument(\"--disable-extensions\")\n",
    "chrome_options.add_argument(\"--disable-gpu\")\n",
    "chrome_options.add_argument(\"--no-sandbox\")\n",
    "chrome_options.add_argument(\"--disable-dev-shm-usage\")\n",
    "# Khởi tạo trình duyệt\n",
    "driver = webdriver.Chrome(service=Service(ChromeDriverManager().install()))"
   ]
  },
  {
   "cell_type": "code",
   "execution_count": 5,
   "metadata": {},
   "outputs": [],
   "source": [
    "# Mở URL\n",
    "url = \"https://www.google.com/maps/search/Restaurants+in+Da+Nang\"\n",
    "driver.get(url)\n",
    "sleep(15)"
   ]
  },
  {
   "cell_type": "code",
   "execution_count": 10,
   "metadata": {},
   "outputs": [],
   "source": [
    "element = driver.find_element(By.CSS_SELECTOR, \"div[role='feed']\")\n",
    "divs= element.find_elements(By.XPATH, \"./div[position() > 2 and not(@class='TFQHme')]\")"
   ]
  },
  {
   "cell_type": "code",
   "execution_count": 11,
   "metadata": {},
   "outputs": [
    {
     "name": "stdout",
     "output_type": "stream",
     "text": [
      "30\n",
      "['Ăn Thôi Restaurant', 'Nhà hàng NHÀ BẾP CHỢ HÀN', 'Bistecca Italian Restaurant in Da Nang', 'Gypsy Rooftop Restaurant & Bar', 'Nhà Gỗ Restaurant Da Nang', 'Cô Ba Phở bò', 'La Cabaña', 'LoCo Restaurant - Danang seafood restaurant - 다낭 레스토랑', 'Bếp Hên', 'BẾP KIM - 레스토랑 (Kim Restaurant and Coffee)', 'Cabanon Palace', 'MAAZI Da Nang', 'Sky View Restaurant', 'Thìa Gỗ Restaurant Da Nang', 'My Casa', 'Red Sky Steakhouse', 'Fatfish', 'The View - Yacht Restaurant Da Nang', 'Shamballa Vegetarian, Greenhouse & Rooftop Bar - Da Nang', 'The Square Restaurant', 'Quán Huế Ngon - 다낭최고의 로컬 BBQ 레스토랑- Best local food in Da Nang', 'My Casa', 'Sky View Restaurant', 'Bánh mì Cô Tiên', 'The Sail Rooftop Dining', 'Nhà hàng Le Bambino', 'Mikado Sushi Indochina Riverside Da Nang', \"Pizza 4P's Indochina Da Nang\", 'Hờn Fishcake Noodle Soup', 'The View - Yacht Restaurant Da Nang']\n"
     ]
    }
   ],
   "source": [
    "Restaurant_name = []\n",
    "\n",
    "for div in divs:\n",
    "    if not div.find_elements(By.CSS_SELECTOR, \"a\"):\n",
    "        continue  # Bỏ qua div không có <a>\n",
    "\n",
    "    try:\n",
    "        elems_name = div.find_element(By.XPATH, './div/div[2]/div[4]/div[1]/div/div/div[2]/div[1]')\n",
    "        Restaurant_name.append(elems_name.text.strip())\n",
    "    except:\n",
    "        Restaurant_name.append(\"Không tìm thấy nhà hàng\")\n",
    "\n",
    "print(len(Restaurant_name))\n",
    "print(Restaurant_name)\n"
   ]
  },
  {
   "cell_type": "code",
   "execution_count": 12,
   "metadata": {},
   "outputs": [
    {
     "name": "stdout",
     "output_type": "stream",
     "text": [
      "Số lượng link: 30\n",
      "['https://www.google.com/maps/place/%C4%82n+Th%C3%B4i+Restaurant/data=!4m7!3m6!1s0x3142194921d15361:0xdd9637b7caf7eb1f!8m2!3d16.0682463!4d108.2248133!16s%2Fg%2F11tfk6fw62!19sChIJYVPRIUkZQjERH-v3yrc3lt0?authuser=0&hl=en&rclk=1', 'https://www.google.com/maps/place/Nh%C3%A0+h%C3%A0ng+NH%C3%80+B%E1%BA%BEP+CH%E1%BB%A2+H%C3%80N/data=!4m7!3m6!1s0x3142192dea33553f:0x67195ccda4ab2f7f!8m2!3d16.0687376!4d108.2243375!16s%2Fg%2F11t9c4w9cn!19sChIJP1Uz6i0ZQjERfy-rpM1cGWc?authuser=0&hl=en&rclk=1', 'https://www.google.com/maps/place/Bistecca+Italian+Restaurant+in+Da+Nang/data=!4m7!3m6!1s0x3142196de9ccba2f:0x7233cc1778c9e453!8m2!3d16.0827532!4d108.2212419!16s%2Fg%2F11f73ypv2v!19sChIJL7rM6W0ZQjERU-TJeBfMM3I?authuser=0&hl=en&rclk=1', 'https://www.google.com/maps/place/Gypsy+Rooftop+Restaurant+%26+Bar/data=!4m7!3m6!1s0x3142190c4beda5ef:0x14568ecf8256aa25!8m2!3d16.0826849!4d108.2212587!16s%2Fg%2F11khkc9s2m!19sChIJ76XtSwwZQjERJapWgs-OVhQ?authuser=0&hl=en&rclk=1', 'https://www.google.com/maps/place/Nh%C3%A0+G%E1%BB%97+Restaurant+Da+Nang/data=!4m7!3m6!1s0x3142196e455d2b63:0xafc2ec3a033d5eeb!8m2!3d16.0679495!4d108.2232911!16s%2Fg%2F11wqtkbc2s!19sChIJYytdRW4ZQjER6149Azrswq8?authuser=0&hl=en&rclk=1', 'https://www.google.com/maps/place/C%C3%B4+Ba+Ph%E1%BB%9F+b%C3%B2/data=!4m7!3m6!1s0x31421983c3938141:0x37c54767199e5f7!8m2!3d16.0669705!4d108.2247188!16s%2Fg%2F11gnpx_f59!19sChIJQYGTw4MZQjER9-WZcXZUfAM?authuser=0&hl=en&rclk=1', 'https://www.google.com/maps/place/La+Caba%C3%B1a/data=!4m7!3m6!1s0x314219669edc596f:0x3b32cac37c9cef30!8m2!3d16.0630164!4d108.2302488!16s%2Fg%2F11jyck2xvc!19sChIJb1ncnmYZQjERMO-cfMPKMjs?authuser=0&hl=en&rclk=1', 'https://www.google.com/maps/place/LoCo+Restaurant+-+Danang+seafood+restaurant+-+%EB%8B%A4%EB%82%AD+%EB%A0%88%EC%8A%A4%ED%86%A0%EB%9E%91/data=!4m7!3m6!1s0x31421977569bbd1f:0xa664a343c71a38a1!8m2!3d16.0715002!4d108.2241655!16s%2Fg%2F11lh55xbhg!19sChIJH72bVncZQjERoTgax0OjZKY?authuser=0&hl=en&rclk=1', 'https://www.google.com/maps/place/B%E1%BA%BFp+H%C3%AAn/data=!4m7!3m6!1s0x314219b85d3066c5:0x49abed782034b9e8!8m2!3d16.0639161!4d108.2210361!16s%2Fg%2F11h0vttspf!19sChIJxWYwXbgZQjER6Lk0IHjtq0k?authuser=0&hl=en&rclk=1', 'https://www.google.com/maps/place/B%E1%BA%BEP+KIM+-+%EB%A0%88%EC%8A%A4%ED%86%A0%EB%9E%91+%28Kim+Restaurant+and+Coffee%29/data=!4m7!3m6!1s0x314219b1ea033bc9:0x7e7bd8793e76cd6!8m2!3d16.074872!4d108.2210984!16s%2Fg%2F11l38ff09l!19sChIJyTsD6rEZQjER1mznk4e95wc?authuser=0&hl=en&rclk=1', 'https://www.google.com/maps/place/Cabanon+Palace/data=!4m7!3m6!1s0x314219cf845a3c6b:0xc5938cb8fc09c57a!8m2!3d16.0737348!4d108.2408397!16s%2Fg%2F11gr1625yh!19sChIJazxahM8ZQjEResUJ_LiMk8U?authuser=0&hl=en&rclk=1', 'https://www.google.com/maps/place/MAAZI+Da+Nang/data=!4m7!3m6!1s0x314219835d28a4a9:0xf4af19405433f45f!8m2!3d16.0622399!4d108.2231519!16s%2Fg%2F11khx0r1y9!19sChIJqaQoXYMZQjERX_QzVEAZr_Q?authuser=0&hl=en&rclk=1', 'https://www.google.com/maps/place/Sky+View+Restaurant/data=!4m7!3m6!1s0x3142179ce12f3489:0xe9d21eb1e28da76e!8m2!3d16.0676095!4d108.2447798!16s%2Fg%2F11gr1h3_31!19sChIJiTQv4ZwXQjERbqeN4rEe0uk?authuser=0&hl=en&rclk=1', 'https://www.google.com/maps/place/Th%C3%ACa+G%E1%BB%97+Restaurant+Da+Nang/data=!4m7!3m6!1s0x314219c3b54c18d7:0x5028941bdf1ab5f5!8m2!3d16.0529867!4d108.2415777!16s%2Fg%2F11f3q_8q_1!19sChIJ1xhMtcMZQjER9bUa3xuUKFA?authuser=0&hl=en&rclk=1', 'https://www.google.com/maps/place/My+Casa/data=!4m7!3m6!1s0x31421785e49d43cf:0x6faad102267d0598!8m2!3d16.0717751!4d108.2427547!16s%2Fg%2F1q62bw489!19sChIJz0Od5IUXQjERmAV9JgLRqm8?authuser=0&hl=en&rclk=1', 'https://www.google.com/maps/place/Red+Sky+Steakhouse/data=!4m7!3m6!1s0x314219cd2416f17f:0x23cfcbfc9375196c!8m2!3d16.0630599!4d108.222984!16s%2Fg%2F1hc10d7m2!19sChIJf_EWJM0ZQjERbBl1k_zLzyM?authuser=0&hl=en&rclk=1', 'https://www.google.com/maps/place/Fatfish/data=!4m7!3m6!1s0x3142182ceeed1a37:0xe27c84359c53b1e5!8m2!3d16.0648589!4d108.2301009!16s%2Fg%2F11b8tnp0rh!19sChIJNxrt7iwYQjER5bFTnDWEfOI?authuser=0&hl=en&rclk=1', 'https://www.google.com/maps/place/The+View+-+Yacht+Restaurant+Da+Nang/data=!4m7!3m6!1s0x31423dbb8bd2c75d:0xd7d7d7f61ed0ac44!8m2!3d16.0641685!4d108.2296915!16s%2Fg%2F11v3_qbsjp!19sChIJXcfSi7s9QjERRKzQHvbX19c?authuser=0&hl=en&rclk=1', 'https://www.google.com/maps/place/Shamballa+Vegetarian,+Greenhouse+%26+Rooftop+Bar+-+Da+Nang/data=!4m7!3m6!1s0x314219fb83f4da6f:0x68819808031db12e!8m2!3d16.0758608!4d108.2289924!16s%2Fg%2F11jycm852w!19sChIJb9r0g_sZQjERLrEdAwiYgWg?authuser=0&hl=en&rclk=1', 'https://www.google.com/maps/place/The+Square+Restaurant/data=!4m7!3m6!1s0x3142183ae59f4621:0xaa22e7a739212ca1!8m2!3d16.0770445!4d108.22368!16s%2Fg%2F11g9qdzf7p!19sChIJIUaf5ToYQjERoSwhOafnIqo?authuser=0&hl=en&rclk=1', 'https://www.google.com/maps/place/Qu%C3%A1n+Hu%E1%BA%BF+Ngon+-+%EB%8B%A4%EB%82%AD%EC%B5%9C%EA%B3%A0%EC%9D%98+%EB%A1%9C%EC%BB%AC+BBQ+%EB%A0%88%EC%8A%A4%ED%86%A0%EB%9E%91-+Best+local+food+in+Da+Nang/data=!4m7!3m6!1s0x3142183373cf7109:0x26fcee71178bf05a!8m2!3d16.0662346!4d108.2212925!16s%2Fg%2F1hc0slx_r!19sChIJCXHPczMYQjERWvCLF3Hu_CY?authuser=0&hl=en&rclk=1', 'https://www.google.com/maps/place/My+Casa/data=!4m7!3m6!1s0x31421785e49d43cf:0x6faad102267d0598!8m2!3d16.0717751!4d108.2427547!16s%2Fg%2F1q62bw489!19sChIJz0Od5IUXQjERmAV9JgLRqm8?authuser=0&hl=en&rclk=1', 'https://www.google.com/maps/place/Sky+View+Restaurant/data=!4m7!3m6!1s0x3142179ce12f3489:0xe9d21eb1e28da76e!8m2!3d16.0676095!4d108.2447798!16s%2Fg%2F11gr1h3_31!19sChIJiTQv4ZwXQjERbqeN4rEe0uk?authuser=0&hl=en&rclk=1', 'https://www.google.com/maps/place/B%C3%A1nh+m%C3%AC+C%C3%B4+Ti%C3%AAn/data=!4m7!3m6!1s0x3142195dadd471bd:0x874a64906c8478a1!8m2!3d16.0696404!4d108.223545!16s%2Fg%2F11h2jxsx7g!19sChIJvXHUrV0ZQjERoXiEbJBkSoc?authuser=0&hl=en&rclk=1', 'https://www.google.com/maps/place/The+Sail+Rooftop+Dining/data=!4m7!3m6!1s0x314219a540dd4409:0x6bb8e7f0a9f651ec!8m2!3d16.0725859!4d108.2243573!16s%2Fg%2F11shdqjylb!19sChIJCUTdQKUZQjER7FH2qfDnuGs?authuser=0&hl=en&rclk=1', 'https://www.google.com/maps/place/Nh%C3%A0+h%C3%A0ng+Le+Bambino/data=!4m7!3m6!1s0x3142183a7be29cbf:0x547dd886c8e23dc0!8m2!3d16.0745833!4d108.2166951!16s%2Fg%2F1pzt__gq4!19sChIJv5ziezoYQjERwD3iyIbYfVQ?authuser=0&hl=en&rclk=1', 'https://www.google.com/maps/place/Mikado+Sushi+Indochina+Riverside+Da+Nang/data=!4m7!3m6!1s0x31421900432343bb:0x904c31a9c6303ee8!8m2!3d16.0700752!4d108.2244741!16s%2Fg%2F11wc4y9240!19sChIJu0MjQwAZQjER6D4wxqkxTJA?authuser=0&hl=en&rclk=1', 'https://www.google.com/maps/place/Pizza+4P%27s+Indochina+Da+Nang/data=!4m7!3m6!1s0x3142193cf50bef09:0x6f1b1de8e432c22e!8m2!3d16.0700193!4d108.2249075!16s%2Fg%2F11j3vtbdz8!19sChIJCe8L9TwZQjERLsIy5OgdG28?authuser=0&hl=en&rclk=1', 'https://www.google.com/maps/place/H%E1%BB%9Dn+Fishcake+Noodle+Soup/data=!4m7!3m6!1s0x31421830bf37a769:0x8f1eba28598104ed!8m2!3d16.0741012!4d108.221255!16s%2Fg%2F11r8_gz51!19sChIJaac3vzAYQjER7QSBWSi6Ho8?authuser=0&hl=en&rclk=1', 'https://www.google.com/maps/place/The+View+-+Yacht+Restaurant+Da+Nang/data=!4m7!3m6!1s0x31423dbb8bd2c75d:0xd7d7d7f61ed0ac44!8m2!3d16.0641685!4d108.2296915!16s%2Fg%2F11v3_qbsjp!19sChIJXcfSi7s9QjERRKzQHvbX19c?authuser=0&hl=en&rclk=1']\n"
     ]
    }
   ],
   "source": [
    "Links = []\n",
    "for div in divs:\n",
    "    a_tags = div.find_elements(By.CSS_SELECTOR, \"a\")  # Tìm tất cả thẻ <a> trong div\n",
    "    if a_tags:  # Kiểm tra nếu có ít nhất 1 thẻ <a>\n",
    "        Links.append(a_tags[0].get_attribute(\"href\"))  # Lấy link đầu tiên trong div\n",
    "\n",
    "print(f\"Số lượng link: {len(Links)}\")\n",
    "print(Links)"
   ]
  },
  {
   "cell_type": "code",
   "execution_count": 13,
   "metadata": {},
   "outputs": [
    {
     "name": "stdout",
     "output_type": "stream",
     "text": [
      "30\n",
      "['(3,774)', '(5,165)', '(1,439)', '(1,639)', '(2,975)', '(6,556)', '(1,335)', '(2,607)', '(743)', '(427)', '(1,570)', '(3,355)', '(762)', '(6,743)', '(1,889)', '(1,011)', '(931)', '(961)', '(726)', '(94)', '(1,456)', '(1,889)', '(762)', '(4,363)', '(27)', '(542)', '(3,033)', '(7,297)', '(1,531)', '(961)']\n"
     ]
    }
   ],
   "source": [
    "Num_of_Reviews = []\n",
    "\n",
    "for div in divs:\n",
    "    if not div.find_elements(By.CSS_SELECTOR, \"a\"):\n",
    "        continue  # Bỏ qua div không có <a>\n",
    "\n",
    "    try:\n",
    "        elems_name = div.find_element(By.XPATH, './div/div[2]/div[4]/div[1]/div/div/div[2]/div[3]/div/span[2]/span/span[2]')\n",
    "        Num_of_Reviews.append(elems_name.text.strip())\n",
    "    except:\n",
    "        Num_of_Reviews.append(\"Không tìm thấy số lượng đánh giá\")\n",
    "\n",
    "print(len(Num_of_Reviews))\n",
    "print(Num_of_Reviews)"
   ]
  },
  {
   "cell_type": "code",
   "execution_count": 14,
   "metadata": {},
   "outputs": [
    {
     "name": "stdout",
     "output_type": "stream",
     "text": [
      "30\n",
      "['4.7', '4.8', '4.9', '4.9', '4.9', '4.8', '4.8', '4.8', '4.5', '4.8', '4.8', '4.8', '4.9', '4.7', '4.6', '4.6', '4.5', '4.7', '4.8', '4.6', '4.1', '4.6', '4.9', '4.8', '4.3', '4.3', '4.9', '4.9', '4.3', '4.7']\n"
     ]
    }
   ],
   "source": [
    "Rating_average = []\n",
    "\n",
    "for div in divs:\n",
    "    if not div.find_elements(By.CSS_SELECTOR, \"a\"):\n",
    "        continue  # Bỏ qua div không có <a>\n",
    "\n",
    "    try:\n",
    "        elems_name = div.find_element(By.XPATH, './div/div[2]/div[4]/div[1]/div/div/div[2]/div[3]/div/span[2]/span/span[1]')\n",
    "        Rating_average.append(elems_name.text.strip())\n",
    "    except:\n",
    "        Rating_average.append(\"Không tìm thấy điểm đánh giá\")\n",
    "\n",
    "print(len(Rating_average))\n",
    "print(Rating_average)"
   ]
  },
  {
   "cell_type": "code",
   "execution_count": 15,
   "metadata": {},
   "outputs": [
    {
     "name": "stdout",
     "output_type": "stream",
     "text": [
      "30\n",
      "['Vietnamese', 'Vietnamese', 'Restaurant', 'Restaurant', 'Vietnamese', 'Restaurant', 'Steak', 'Restaurant', 'Vietnamese', 'Vietnamese', 'French', 'Indian', 'Fine Dining', 'Vietnamese', 'Spanish', 'Steak', 'Fusion restaurant', 'Seafood', 'Vegetarian', 'Restaurant', 'Vietnamese', 'Spanish', 'Fine Dining', 'Sandwich', 'Restaurant', 'French', 'Sushi', 'Pizza', 'Noodle Shop', 'Seafood']\n"
     ]
    }
   ],
   "source": [
    "Cuisines = []\n",
    "\n",
    "for div in divs:\n",
    "    if not div.find_elements(By.CSS_SELECTOR, \"a\"):\n",
    "        continue  # Bỏ qua div không có <a>\n",
    "\n",
    "    try:\n",
    "        elems_name = div.find_element(By.XPATH, './div/div[2]/div[4]/div[1]/div/div/div[2]/div[4]/div[1]/span[1]/span')\n",
    "        Cuisines.append(elems_name.text.strip())\n",
    "    except:\n",
    "        Cuisines.append(\"Không tìm thấy loại món ăn\")\n",
    "\n",
    "print(len(Cuisines))\n",
    "print(Cuisines)"
   ]
  },
  {
   "cell_type": "code",
   "execution_count": 16,
   "metadata": {},
   "outputs": [
    {
     "name": "stdout",
     "output_type": "stream",
     "text": [
      "30\n",
      "['₫100–200K', '₫100–200K', 'Không tìm thấy mức giá', '₫1,000,000+', '₫100–200K', '₫100–200K', 'Không tìm thấy mức giá', '₫₫', '₫100–200K', '₫100–200K', '₫1,000,000+', '₫100–200K', 'Không tìm thấy mức giá', '₫100–200K', 'Không tìm thấy mức giá', '₫₫', '₫₫₫', 'Không tìm thấy mức giá', '₫', 'Không tìm thấy mức giá', '₫100–300K', 'Không tìm thấy mức giá', 'Không tìm thấy mức giá', '₫1–100,000', '₫400–500K', 'Không tìm thấy mức giá', '₫100–200K', '$$', '₫1–100,000', 'Không tìm thấy mức giá']\n"
     ]
    }
   ],
   "source": [
    "Prices = []\n",
    "\n",
    "for div in divs:\n",
    "    if not div.find_elements(By.CSS_SELECTOR, \"a\"):\n",
    "        continue  # Bỏ qua div không có <a>\n",
    "\n",
    "    try:\n",
    "        elems_name = div.find_element(By.XPATH, './div/div[2]/div[4]/div[1]/div/div/div[2]/div[3]/div/span[3]/span[2]')\n",
    "        Prices.append(elems_name.text.strip())\n",
    "    except:\n",
    "        Prices.append(\"Không tìm thấy mức giá\")\n",
    "\n",
    "print(len(Prices))\n",
    "print(Prices)\n"
   ]
  },
  {
   "cell_type": "code",
   "execution_count": 147,
   "metadata": {},
   "outputs": [],
   "source": [
    "# Address = []\n",
    "\n",
    "# for div in divs:\n",
    "#     if not div.find_elements(By.CSS_SELECTOR, \"a\"):\n",
    "#         continue  # Bỏ qua div không có <a>\n",
    "\n",
    "#     xpaths = [\n",
    "#         './div/div[2]/div[4]/div[1]/div/div/div[2]/div[4]/div[1]/span[2]/span[2]',\n",
    "#         './div/div[2]/div[4]/div[1]/div/div/div[2]/div[4]/div[1]/span[3]/span[2]'\n",
    "#     ]\n",
    "\n",
    "#     for xpath in xpaths:\n",
    "#         try:\n",
    "#             text = div.find_element(By.XPATH, xpath).text.strip()\n",
    "#             if any(char.isdigit() for char in text):  # Kiểm tra địa chỉ có số hay không\n",
    "#                 Address.append(text)\n",
    "#                 break  # Nếu tìm thấy địa chỉ hợp lệ, dừng vòng lặp\n",
    "#         except:\n",
    "#             continue  # Nếu lỗi, thử XPath tiếp theo\n",
    "#     else:\n",
    "#         Address.append(\"Không tìm thấy địa chỉ\")  # Nếu không tìm thấy ở cả hai XPath\n",
    "\n",
    "# print(len(Address))\n",
    "# print(Address)"
   ]
  },
  {
   "cell_type": "code",
   "execution_count": 148,
   "metadata": {},
   "outputs": [],
   "source": [
    "# Open_time = []\n",
    "\n",
    "# for div in divs:\n",
    "#     if not div.find_elements(By.CSS_SELECTOR, \"a\"):\n",
    "#         continue  # Bỏ qua div không có <a>\n",
    "\n",
    "#     xpaths = [\n",
    "#         './div/div[2]/div[4]/div[1]/div/div/div[2]/div[4]/div[2]/span/span/span[2]',\n",
    "#         './div/div[2]/div[4]/div[1]/div/div/div[2]/div[4]/div[3]/span/span/span[2]'\n",
    "#     ]\n",
    "\n",
    "#     for xpath in xpaths:\n",
    "#         try:\n",
    "#             text = div.find_element(By.XPATH, xpath).text.strip()\n",
    "#             if text:\n",
    "#                 Open_time.append(text)\n",
    "#                 break  # Nếu tìm thấy dữ liệu hợp lệ, dừng vòng lặp\n",
    "#         except:\n",
    "#             continue  # Nếu lỗi, thử XPath tiếp theo\n",
    "#     else:\n",
    "#         Open_time.append(\"Không tìm thấy thời gian mở cửa\")  # Nếu không tìm thấy ở cả hai XPath\n",
    "\n",
    "# print(len(Open_time))\n",
    "# print(Open_time)\n"
   ]
  },
  {
   "cell_type": "code",
   "execution_count": 149,
   "metadata": {},
   "outputs": [],
   "source": [
    "# Type = []\n",
    "\n",
    "# for div in divs:\n",
    "#     if not div.find_elements(By.CSS_SELECTOR, \"a\"):\n",
    "#         continue  # Bỏ qua div không có <a>\n",
    "\n",
    "#     xpaths = [\n",
    "#         './div/div[2]/div[5]/div[2]/div/div[1]/div/span',\n",
    "#         './div/div[2]/div[5]/div[2]/div/div[2]/div/span',\n",
    "#         './div/div[2]/div[5]/div[2]/div/div[3]/div/span'\n",
    "#     ]\n",
    "\n",
    "#     type_texts = []  # Danh sách chứa các giá trị hợp lệ trong mỗi div\n",
    "\n",
    "#     for xpath in xpaths:\n",
    "#         try:\n",
    "#             text = div.find_element(By.XPATH, xpath).text.strip()\n",
    "#             if text:\n",
    "#                 type_texts.append(text)  # Thêm giá trị nếu hợp lệ\n",
    "#         except:\n",
    "#             continue  # Nếu lỗi, thử XPath tiếp theo\n",
    "\n",
    "#     # Chỉ thêm vào Type nếu có ít nhất một giá trị hợp lệ\n",
    "#     Type.append(\", \".join(type_texts) if type_texts else \"Không tìm thấy loại hình kinh doanh\")\n",
    "\n",
    "# print(len(Type))\n",
    "# print(Type)"
   ]
  },
  {
   "cell_type": "code",
   "execution_count": 17,
   "metadata": {},
   "outputs": [
    {
     "name": "stdout",
     "output_type": "stream",
     "text": [
      "                                      Restaurant_Name  \\\n",
      "0                                  Ăn Thôi Restaurant   \n",
      "1                            Nhà hàng NHÀ BẾP CHỢ HÀN   \n",
      "2              Bistecca Italian Restaurant in Da Nang   \n",
      "3                      Gypsy Rooftop Restaurant & Bar   \n",
      "4                           Nhà Gỗ Restaurant Da Nang   \n",
      "5                                        Cô Ba Phở bò   \n",
      "6                                           La Cabaña   \n",
      "7   LoCo Restaurant - Danang seafood restaurant - ...   \n",
      "8                                             Bếp Hên   \n",
      "9          BẾP KIM - 레스토랑 (Kim Restaurant and Coffee)   \n",
      "10                                     Cabanon Palace   \n",
      "11                                      MAAZI Da Nang   \n",
      "12                                Sky View Restaurant   \n",
      "13                         Thìa Gỗ Restaurant Da Nang   \n",
      "14                                            My Casa   \n",
      "15                                 Red Sky Steakhouse   \n",
      "16                                            Fatfish   \n",
      "17                The View - Yacht Restaurant Da Nang   \n",
      "18  Shamballa Vegetarian, Greenhouse & Rooftop Bar...   \n",
      "19                              The Square Restaurant   \n",
      "20  Quán Huế Ngon - 다낭최고의 로컬 BBQ 레스토랑- Best local ...   \n",
      "21                                            My Casa   \n",
      "22                                Sky View Restaurant   \n",
      "23                                    Bánh mì Cô Tiên   \n",
      "24                            The Sail Rooftop Dining   \n",
      "25                                Nhà hàng Le Bambino   \n",
      "26           Mikado Sushi Indochina Riverside Da Nang   \n",
      "27                       Pizza 4P's Indochina Da Nang   \n",
      "28                           Hờn Fishcake Noodle Soup   \n",
      "29                The View - Yacht Restaurant Da Nang   \n",
      "\n",
      "                                                Links Ratings Num_of_Reviews  \\\n",
      "0   https://www.google.com/maps/place/%C4%82n+Th%C...     4.7        (3,774)   \n",
      "1   https://www.google.com/maps/place/Nh%C3%A0+h%C...     4.8        (5,165)   \n",
      "2   https://www.google.com/maps/place/Bistecca+Ita...     4.9        (1,439)   \n",
      "3   https://www.google.com/maps/place/Gypsy+Roofto...     4.9        (1,639)   \n",
      "4   https://www.google.com/maps/place/Nh%C3%A0+G%E...     4.9        (2,975)   \n",
      "5   https://www.google.com/maps/place/C%C3%B4+Ba+P...     4.8        (6,556)   \n",
      "6   https://www.google.com/maps/place/La+Caba%C3%B...     4.8        (1,335)   \n",
      "7   https://www.google.com/maps/place/LoCo+Restaur...     4.8        (2,607)   \n",
      "8   https://www.google.com/maps/place/B%E1%BA%BFp+...     4.5          (743)   \n",
      "9   https://www.google.com/maps/place/B%E1%BA%BEP+...     4.8          (427)   \n",
      "10  https://www.google.com/maps/place/Cabanon+Pala...     4.8        (1,570)   \n",
      "11  https://www.google.com/maps/place/MAAZI+Da+Nan...     4.8        (3,355)   \n",
      "12  https://www.google.com/maps/place/Sky+View+Res...     4.9          (762)   \n",
      "13  https://www.google.com/maps/place/Th%C3%ACa+G%...     4.7        (6,743)   \n",
      "14  https://www.google.com/maps/place/My+Casa/data...     4.6        (1,889)   \n",
      "15  https://www.google.com/maps/place/Red+Sky+Stea...     4.6        (1,011)   \n",
      "16  https://www.google.com/maps/place/Fatfish/data...     4.5          (931)   \n",
      "17  https://www.google.com/maps/place/The+View+-+Y...     4.7          (961)   \n",
      "18  https://www.google.com/maps/place/Shamballa+Ve...     4.8          (726)   \n",
      "19  https://www.google.com/maps/place/The+Square+R...     4.6           (94)   \n",
      "20  https://www.google.com/maps/place/Qu%C3%A1n+Hu...     4.1        (1,456)   \n",
      "21  https://www.google.com/maps/place/My+Casa/data...     4.6        (1,889)   \n",
      "22  https://www.google.com/maps/place/Sky+View+Res...     4.9          (762)   \n",
      "23  https://www.google.com/maps/place/B%C3%A1nh+m%...     4.8        (4,363)   \n",
      "24  https://www.google.com/maps/place/The+Sail+Roo...     4.3           (27)   \n",
      "25  https://www.google.com/maps/place/Nh%C3%A0+h%C...     4.3          (542)   \n",
      "26  https://www.google.com/maps/place/Mikado+Sushi...     4.9        (3,033)   \n",
      "27  https://www.google.com/maps/place/Pizza+4P%27s...     4.9        (7,297)   \n",
      "28  https://www.google.com/maps/place/H%E1%BB%9Dn+...     4.3        (1,531)   \n",
      "29  https://www.google.com/maps/place/The+View+-+Y...     4.7          (961)   \n",
      "\n",
      "             Cuisines                   Price  \n",
      "0          Vietnamese               ₫100–200K  \n",
      "1          Vietnamese               ₫100–200K  \n",
      "2          Restaurant  Không tìm thấy mức giá  \n",
      "3          Restaurant             ₫1,000,000+  \n",
      "4          Vietnamese               ₫100–200K  \n",
      "5          Restaurant               ₫100–200K  \n",
      "6               Steak  Không tìm thấy mức giá  \n",
      "7          Restaurant                      ₫₫  \n",
      "8          Vietnamese               ₫100–200K  \n",
      "9          Vietnamese               ₫100–200K  \n",
      "10             French             ₫1,000,000+  \n",
      "11             Indian               ₫100–200K  \n",
      "12        Fine Dining  Không tìm thấy mức giá  \n",
      "13         Vietnamese               ₫100–200K  \n",
      "14            Spanish  Không tìm thấy mức giá  \n",
      "15              Steak                      ₫₫  \n",
      "16  Fusion restaurant                     ₫₫₫  \n",
      "17            Seafood  Không tìm thấy mức giá  \n",
      "18         Vegetarian                       ₫  \n",
      "19         Restaurant  Không tìm thấy mức giá  \n",
      "20         Vietnamese               ₫100–300K  \n",
      "21            Spanish  Không tìm thấy mức giá  \n",
      "22        Fine Dining  Không tìm thấy mức giá  \n",
      "23           Sandwich              ₫1–100,000  \n",
      "24         Restaurant               ₫400–500K  \n",
      "25             French  Không tìm thấy mức giá  \n",
      "26              Sushi               ₫100–200K  \n",
      "27              Pizza                      $$  \n",
      "28        Noodle Shop              ₫1–100,000  \n",
      "29            Seafood  Không tìm thấy mức giá  \n"
     ]
    }
   ],
   "source": [
    "import pandas as pd\n",
    "\n",
    "# Tạo DataFrame từ các danh sách đã thu thập\n",
    "data = {\n",
    "    \"Restaurant_Name\": Restaurant_name,\n",
    "    \"Links\": Links,\n",
    "    \"Ratings\": Rating_average,\n",
    "    \"Num_of_Reviews\": Num_of_Reviews,\n",
    "    \"Cuisines\": Cuisines,\n",
    "    \"Price\": Prices\n",
    "}\n",
    "\n",
    "# Chuyển đổi thành DataFrame, tự động xử lý độ dài khác nhau bằng cách điền NaN\n",
    "df = pd.DataFrame(dict([(k, pd.Series(v)) for k, v in data.items()]))\n",
    "\n",
    "# Hiển thị DataFrame\n",
    "print(df)"
   ]
  },
  {
   "cell_type": "code",
   "execution_count": 151,
   "metadata": {},
   "outputs": [],
   "source": [
    "df.to_csv(\"count_review.csv\", index=False, encoding=\"utf-8-sig\")"
   ]
  }
 ],
 "metadata": {
  "kernelspec": {
   "display_name": "venv",
   "language": "python",
   "name": "python3"
  },
  "language_info": {
   "codemirror_mode": {
    "name": "ipython",
    "version": 3
   },
   "file_extension": ".py",
   "mimetype": "text/x-python",
   "name": "python",
   "nbconvert_exporter": "python",
   "pygments_lexer": "ipython3",
   "version": "3.12.6"
  }
 },
 "nbformat": 4,
 "nbformat_minor": 2
}
