{
 "cells": [
  {
   "cell_type": "code",
   "execution_count": null,
   "metadata": {},
   "outputs": [],
   "source": [
    "import numpy as np\n",
    "import pandas as pd\n",
    "import random\n",
    "import time\n",
    "from selenium import webdriver\n",
    "from selenium.webdriver.chrome.service import Service\n",
    "from selenium.webdriver.chrome.options import Options # type: ignore\n",
    "from selenium.common.exceptions import NoSuchElementException, ElementNotInteractableException\n",
    "from webdriver_manager.chrome import ChromeDriverManager\n",
    "from selenium.webdriver.common.by import By\n",
    "\n",
    "# Cấu hình trình duyệt\n",
    "chrome_options = Options()\n",
    "chrome_options.add_argument(\"--disable-blink-features=AutomationControlled\")  # Giảm phát hiện bot\n",
    "chrome_options.add_argument(\"--start-maximized\")\n",
    "chrome_options.add_argument(\"--disable-extensions\")\n",
    "chrome_options.add_argument(\"--disable-gpu\")\n",
    "chrome_options.add_argument(\"--no-sandbox\")\n",
    "chrome_options.add_argument(\"--disable-dev-shm-usage\")\n",
    "\n",
    "# Khởi tạo trình duyệt với WebDriver Manager (tự động tải đúng ChromeDriver)\n",
    "service = Service(ChromeDriverManager().install())\n",
    "driver = webdriver.Chrome(service=service, options=chrome_options)\n",
    "\n",
    "# Mở URL\n",
    "url = \"http://tripadvisor.com/Restaurants-g298085-Da_Nang.html\"\n",
    "driver.get(url)\n",
    "time.sleep(15)  # Chờ 15 giây để đảm bảo trang tải"
   ]
  },
  {
   "cell_type": "code",
   "execution_count": 2,
   "metadata": {},
   "outputs": [
    {
     "ename": "NoSuchElementException",
     "evalue": "Message: no such element: Unable to locate element: {\"method\":\"css selector\",\"selector\":\"div[data-automation='searchResults']\"}\n  (Session info: chrome=140.0.7339.208); For documentation on this error, please visit: https://www.selenium.dev/documentation/webdriver/troubleshooting/errors#nosuchelementexception\nStacktrace:\n\tGetHandleVerifier [0x0x84c333+65459]\n\tGetHandleVerifier [0x0x84c374+65524]\n\t(No symbol) [0x0x66d973]\n\t(No symbol) [0x0x6b76e7]\n\t(No symbol) [0x0x6b7a8b]\n\t(No symbol) [0x0x6fdea2]\n\t(No symbol) [0x0x6d9e44]\n\t(No symbol) [0x0x6fb606]\n\t(No symbol) [0x0x6d9bf6]\n\t(No symbol) [0x0x6ab38e]\n\t(No symbol) [0x0x6ac274]\n\tGetHandleVerifier [0x0xaceda3+2697763]\n\tGetHandleVerifier [0x0xac9ec7+2677575]\n\tGetHandleVerifier [0x0x874194+228884]\n\tGetHandleVerifier [0x0x8649f8+165496]\n\tGetHandleVerifier [0x0x86b18d+192013]\n\tGetHandleVerifier [0x0x8547d8+99416]\n\tGetHandleVerifier [0x0x854972+99826]\n\tGetHandleVerifier [0x0x83ebea+10346]\n\tBaseThreadInitThunk [0x0x76a95d49+25]\n\tRtlInitializeExceptionChain [0x0x770ad6db+107]\n\tRtlGetAppContainerNamedObjectPath [0x0x770ad661+561]\n",
     "output_type": "error",
     "traceback": [
      "\u001b[1;31m---------------------------------------------------------------------------\u001b[0m",
      "\u001b[1;31mNoSuchElementException\u001b[0m                    Traceback (most recent call last)",
      "Cell \u001b[1;32mIn[2], line 2\u001b[0m\n\u001b[0;32m      1\u001b[0m \u001b[38;5;66;03m# Lấy title và links\u001b[39;00m\n\u001b[1;32m----> 2\u001b[0m elems \u001b[38;5;241m=\u001b[39m \u001b[43mdriver\u001b[49m\u001b[38;5;241;43m.\u001b[39;49m\u001b[43mfind_element\u001b[49m\u001b[43m(\u001b[49m\u001b[43mBy\u001b[49m\u001b[38;5;241;43m.\u001b[39;49m\u001b[43mCSS_SELECTOR\u001b[49m\u001b[43m \u001b[49m\u001b[43m,\u001b[49m\u001b[43m \u001b[49m\u001b[38;5;124;43m\"\u001b[39;49m\u001b[38;5;124;43mdiv[data-automation=\u001b[39;49m\u001b[38;5;124;43m'\u001b[39;49m\u001b[38;5;124;43msearchResults\u001b[39;49m\u001b[38;5;124;43m'\u001b[39;49m\u001b[38;5;124;43m]\u001b[39;49m\u001b[38;5;124;43m\"\u001b[39;49m\u001b[43m)\u001b[49m\n\u001b[0;32m      3\u001b[0m spans \u001b[38;5;241m=\u001b[39m elems\u001b[38;5;241m.\u001b[39mfind_elements(By\u001b[38;5;241m.\u001b[39mXPATH, \u001b[38;5;124m'\u001b[39m\u001b[38;5;124m./span\u001b[39m\u001b[38;5;124m'\u001b[39m)\n\u001b[0;32m      4\u001b[0m \u001b[38;5;28;01mfor\u001b[39;00m span \u001b[38;5;129;01min\u001b[39;00m spans:\n",
      "File \u001b[1;32m~\\AppData\\Roaming\\Python\\Python312\\site-packages\\selenium\\webdriver\\remote\\webdriver.py:926\u001b[0m, in \u001b[0;36mWebDriver.find_element\u001b[1;34m(self, by, value)\u001b[0m\n\u001b[0;32m    923\u001b[0m         \u001b[38;5;28;01mraise\u001b[39;00m NoSuchElementException(\u001b[38;5;124mf\u001b[39m\u001b[38;5;124m\"\u001b[39m\u001b[38;5;124mCannot locate relative element with: \u001b[39m\u001b[38;5;132;01m{\u001b[39;00mby\u001b[38;5;241m.\u001b[39mroot\u001b[38;5;132;01m}\u001b[39;00m\u001b[38;5;124m\"\u001b[39m)\n\u001b[0;32m    924\u001b[0m     \u001b[38;5;28;01mreturn\u001b[39;00m elements[\u001b[38;5;241m0\u001b[39m]\n\u001b[1;32m--> 926\u001b[0m \u001b[38;5;28;01mreturn\u001b[39;00m \u001b[38;5;28;43mself\u001b[39;49m\u001b[38;5;241;43m.\u001b[39;49m\u001b[43mexecute\u001b[49m\u001b[43m(\u001b[49m\u001b[43mCommand\u001b[49m\u001b[38;5;241;43m.\u001b[39;49m\u001b[43mFIND_ELEMENT\u001b[49m\u001b[43m,\u001b[49m\u001b[43m \u001b[49m\u001b[43m{\u001b[49m\u001b[38;5;124;43m\"\u001b[39;49m\u001b[38;5;124;43musing\u001b[39;49m\u001b[38;5;124;43m\"\u001b[39;49m\u001b[43m:\u001b[49m\u001b[43m \u001b[49m\u001b[43mby\u001b[49m\u001b[43m,\u001b[49m\u001b[43m \u001b[49m\u001b[38;5;124;43m\"\u001b[39;49m\u001b[38;5;124;43mvalue\u001b[39;49m\u001b[38;5;124;43m\"\u001b[39;49m\u001b[43m:\u001b[49m\u001b[43m \u001b[49m\u001b[43mvalue\u001b[49m\u001b[43m}\u001b[49m\u001b[43m)\u001b[49m[\u001b[38;5;124m\"\u001b[39m\u001b[38;5;124mvalue\u001b[39m\u001b[38;5;124m\"\u001b[39m]\n",
      "File \u001b[1;32m~\\AppData\\Roaming\\Python\\Python312\\site-packages\\selenium\\webdriver\\remote\\webdriver.py:458\u001b[0m, in \u001b[0;36mWebDriver.execute\u001b[1;34m(self, driver_command, params)\u001b[0m\n\u001b[0;32m    455\u001b[0m response \u001b[38;5;241m=\u001b[39m cast(RemoteConnection, \u001b[38;5;28mself\u001b[39m\u001b[38;5;241m.\u001b[39mcommand_executor)\u001b[38;5;241m.\u001b[39mexecute(driver_command, params)\n\u001b[0;32m    457\u001b[0m \u001b[38;5;28;01mif\u001b[39;00m response:\n\u001b[1;32m--> 458\u001b[0m     \u001b[38;5;28;43mself\u001b[39;49m\u001b[38;5;241;43m.\u001b[39;49m\u001b[43merror_handler\u001b[49m\u001b[38;5;241;43m.\u001b[39;49m\u001b[43mcheck_response\u001b[49m\u001b[43m(\u001b[49m\u001b[43mresponse\u001b[49m\u001b[43m)\u001b[49m\n\u001b[0;32m    459\u001b[0m     response[\u001b[38;5;124m\"\u001b[39m\u001b[38;5;124mvalue\u001b[39m\u001b[38;5;124m\"\u001b[39m] \u001b[38;5;241m=\u001b[39m \u001b[38;5;28mself\u001b[39m\u001b[38;5;241m.\u001b[39m_unwrap_value(response\u001b[38;5;241m.\u001b[39mget(\u001b[38;5;124m\"\u001b[39m\u001b[38;5;124mvalue\u001b[39m\u001b[38;5;124m\"\u001b[39m, \u001b[38;5;28;01mNone\u001b[39;00m))\n\u001b[0;32m    460\u001b[0m     \u001b[38;5;28;01mreturn\u001b[39;00m response\n",
      "File \u001b[1;32m~\\AppData\\Roaming\\Python\\Python312\\site-packages\\selenium\\webdriver\\remote\\errorhandler.py:232\u001b[0m, in \u001b[0;36mErrorHandler.check_response\u001b[1;34m(self, response)\u001b[0m\n\u001b[0;32m    230\u001b[0m         alert_text \u001b[38;5;241m=\u001b[39m value[\u001b[38;5;124m\"\u001b[39m\u001b[38;5;124malert\u001b[39m\u001b[38;5;124m\"\u001b[39m]\u001b[38;5;241m.\u001b[39mget(\u001b[38;5;124m\"\u001b[39m\u001b[38;5;124mtext\u001b[39m\u001b[38;5;124m\"\u001b[39m)\n\u001b[0;32m    231\u001b[0m     \u001b[38;5;28;01mraise\u001b[39;00m exception_class(message, screen, stacktrace, alert_text)  \u001b[38;5;66;03m# type: ignore[call-arg]  # mypy is not smart enough here\u001b[39;00m\n\u001b[1;32m--> 232\u001b[0m \u001b[38;5;28;01mraise\u001b[39;00m exception_class(message, screen, stacktrace)\n",
      "\u001b[1;31mNoSuchElementException\u001b[0m: Message: no such element: Unable to locate element: {\"method\":\"css selector\",\"selector\":\"div[data-automation='searchResults']\"}\n  (Session info: chrome=140.0.7339.208); For documentation on this error, please visit: https://www.selenium.dev/documentation/webdriver/troubleshooting/errors#nosuchelementexception\nStacktrace:\n\tGetHandleVerifier [0x0x84c333+65459]\n\tGetHandleVerifier [0x0x84c374+65524]\n\t(No symbol) [0x0x66d973]\n\t(No symbol) [0x0x6b76e7]\n\t(No symbol) [0x0x6b7a8b]\n\t(No symbol) [0x0x6fdea2]\n\t(No symbol) [0x0x6d9e44]\n\t(No symbol) [0x0x6fb606]\n\t(No symbol) [0x0x6d9bf6]\n\t(No symbol) [0x0x6ab38e]\n\t(No symbol) [0x0x6ac274]\n\tGetHandleVerifier [0x0xaceda3+2697763]\n\tGetHandleVerifier [0x0xac9ec7+2677575]\n\tGetHandleVerifier [0x0x874194+228884]\n\tGetHandleVerifier [0x0x8649f8+165496]\n\tGetHandleVerifier [0x0x86b18d+192013]\n\tGetHandleVerifier [0x0x8547d8+99416]\n\tGetHandleVerifier [0x0x854972+99826]\n\tGetHandleVerifier [0x0x83ebea+10346]\n\tBaseThreadInitThunk [0x0x76a95d49+25]\n\tRtlInitializeExceptionChain [0x0x770ad6db+107]\n\tRtlGetAppContainerNamedObjectPath [0x0x770ad661+561]\n"
     ]
    }
   ],
   "source": [
    "# Lấy title và links\n",
    "elems = driver.find_element(By.CSS_SELECTOR , \"div[data-automation='searchResults']\")\n",
    "spans = elems.find_elements(By.XPATH, './span')\n",
    "for span in spans:\n",
    "    link = span.find_element(By.CSS_SELECTOR, 'a').get_attribute('href')\n",
    "    print(link)"
   ]
  },
  {
   "cell_type": "code",
   "execution_count": null,
   "metadata": {},
   "outputs": [],
   "source": [
    "for span in spans:\n",
    "    xpaths = [\n",
    "        './div/div/div/div[2]/div[1]/div/div[2]/div[1]/div[2]/a',\n",
    "        './div/div/div[2]/div[1]/div/div[2]/div[1]/div/a'\n",
    "    ]\n",
    "    tilte = None\n",
    "    for xpath in xpaths:\n",
    "        try:\n",
    "            tilte = span.find_element(By.XPATH, xpath)\n",
    "            break  # Nếu tìm thấy thì dừng lại\n",
    "        except:\n",
    "            continue  # Nếu lỗi thì thử XPath tiếp theo\n",
    "    if tilte:\n",
    "        print(tilte.text)\n",
    "    else:\n",
    "        print(\"Không tìm thấy tiêu đề cho một span\")\n"
   ]
  },
  {
   "cell_type": "code",
   "execution_count": null,
   "metadata": {},
   "outputs": [],
   "source": [
    "# Danh sách các XPath có thể xảy ra\n",
    "xpaths = [\n",
    "    \"./div/div/div/div[2]/div[1]/div/div[2]/div[2]/div/div[1]/span[1]/span/span/a/span[2]\",\n",
    "    \"./div/div/div[2]/div[1]/div/div[2]/div[2]/div[1]/div[1]/span[1]/span/span/a/span[2]\"\n",
    "]\n",
    "for span in spans:\n",
    "    for xpath in xpaths:\n",
    "        try:\n",
    "            target_span = span.find_element(By.XPATH, xpath)\n",
    "            Review = target_span.text.strip()\n",
    "            if Review:  # Nếu tìm thấy text thì in ra và dừng vòng lặp\n",
    "                print(Review)\n",
    "                break\n",
    "        except:\n",
    "            pass  # Nếu không tìm thấy phần tử thì thử XPath tiếp theo\n"
   ]
  },
  {
   "cell_type": "code",
   "execution_count": null,
   "metadata": {},
   "outputs": [],
   "source": []
  },
  {
   "cell_type": "code",
   "execution_count": null,
   "metadata": {},
   "outputs": [],
   "source": [
    "# Lấy title\n",
    "elems = driver.find_elements(By.CSS_SELECTOR , \".ABufV\")\n",
    "title = [elem.text for elem in elems]\n",
    "print(title)"
   ]
  },
  {
   "cell_type": "code",
   "execution_count": null,
   "metadata": {},
   "outputs": [],
   "source": [
    "len(title)"
   ]
  },
  {
   "cell_type": "code",
   "execution_count": null,
   "metadata": {},
   "outputs": [],
   "source": [
    "# Tìm tất cả phần tử chứa rating & reviews\n",
    "elems_rating = driver.find_elements(By.CSS_SELECTOR, \"div.jVDab.W.f.u.w.JqMhy\")\n",
    "\n",
    "# Lấy danh sách nội dung từ thuộc tính aria-label\n",
    "ratings = [elem.get_attribute(\"aria-label\") for elem in elems_rating]\n",
    "\n",
    "print(\"Danh sách Rating & Reviews:\", ratings)"
   ]
  },
  {
   "cell_type": "code",
   "execution_count": null,
   "metadata": {},
   "outputs": [],
   "source": [
    "len(ratings)"
   ]
  },
  {
   "cell_type": "code",
   "execution_count": null,
   "metadata": {},
   "outputs": [],
   "source": [
    "# Lấy num_of_reviews\n",
    "elems_numreviews = driver.find_elements(By.CSS_SELECTOR , \".yyzcQ\")\n",
    "num_of_reviews = [elem.text for elem in elems_numreviews]\n",
    "print(num_of_reviews)"
   ]
  },
  {
   "cell_type": "code",
   "execution_count": null,
   "metadata": {},
   "outputs": [],
   "source": [
    "len(num_of_reviews)"
   ]
  },
  {
   "cell_type": "code",
   "execution_count": null,
   "metadata": {},
   "outputs": [],
   "source": [
    "# Lấy Cuisines\n",
    "elems_cuisines = driver.find_elements(By.CSS_SELECTOR , \".HWdbN.o.W.q\")\n",
    "cuisines = [elem.text for elem in elems_cuisines if elem.text and \"reviews\" not in elem.text]\n",
    "print(cuisines)"
   ]
  },
  {
   "cell_type": "code",
   "execution_count": null,
   "metadata": {},
   "outputs": [],
   "source": [
    "len(cuisines)"
   ]
  },
  {
   "cell_type": "code",
   "execution_count": null,
   "metadata": {},
   "outputs": [],
   "source": [
    "# Lấy price\n",
    "elems_price = driver.find_elements(By.CSS_SELECTOR , \".BUNnJ\")\n",
    "price = [elem.text for elem in elems_price if not elem.text or \"$\" in elem.text]\n",
    "print(price)"
   ]
  },
  {
   "cell_type": "code",
   "execution_count": null,
   "metadata": {},
   "outputs": [],
   "source": [
    "len(price)"
   ]
  },
  {
   "cell_type": "code",
   "execution_count": null,
   "metadata": {},
   "outputs": [],
   "source": [
    "import pandas as pd\n",
    "\n",
    "# Tạo DataFrame từ các danh sách đã thu thập\n",
    "data = {\n",
    "    \"Title\": title,\n",
    "    \"Links\": links,\n",
    "    \"Ratings\": ratings,\n",
    "    \"Num_of_Reviews\": num_of_reviews,\n",
    "    \"Cuisines\": cuisines,\n",
    "    \"Price\": price\n",
    "}\n",
    "\n",
    "# Chuyển đổi thành DataFrame, tự động xử lý độ dài khác nhau bằng cách điền NaN\n",
    "df = pd.DataFrame(dict([(k, pd.Series(v)) for k, v in data.items()]))\n",
    "\n",
    "# Hiển thị DataFrame\n",
    "print(df)"
   ]
  },
  {
   "cell_type": "code",
   "execution_count": null,
   "metadata": {},
   "outputs": [],
   "source": [
    "df.to_csv(\"restaurant_data.csv\", index=False, encoding=\"utf-8-sig\")"
   ]
  }
 ],
 "metadata": {
  "kernelspec": {
   "display_name": "Python 3",
   "language": "python",
   "name": "python3"
  },
  "language_info": {
   "codemirror_mode": {
    "name": "ipython",
    "version": 3
   },
   "file_extension": ".py",
   "mimetype": "text/x-python",
   "name": "python",
   "nbconvert_exporter": "python",
   "pygments_lexer": "ipython3",
   "version": "3.12.6"
  }
 },
 "nbformat": 4,
 "nbformat_minor": 2
}
