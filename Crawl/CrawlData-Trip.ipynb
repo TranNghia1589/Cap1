{
 "cells": [
  {
   "cell_type": "code",
   "execution_count": 1,
   "metadata": {},
   "outputs": [],
   "source": [
    "import numpy as np\n",
    "import pandas as pd\n",
    "import random\n",
    "from time import sleep\n",
    "from selenium import webdriver\n",
    "from selenium.webdriver.chrome.service import Service\n",
    "from selenium.webdriver.chrome.options import Options \n",
    "from selenium.common.exceptions import NoSuchElementException, ElementNotInteractableException\n",
    "from selenium.webdriver.support.ui import WebDriverWait\n",
    "from selenium.webdriver.support import expected_conditions as EC\n",
    "from webdriver_manager.chrome import ChromeDriverManager\n",
    "from selenium.webdriver.common.by import By\n",
    "from selenium.webdriver.common.keys import Keys"
   ]
  },
  {
   "cell_type": "code",
   "execution_count": null,
   "metadata": {},
   "outputs": [],
   "source": [
    "# Cấu hình trình duyệt\n",
    "chrome_options = Options()\n",
    "chrome_options.add_argument(\"--disable-blink-features=AutomationControlled\")\n",
    "chrome_options.add_argument(\"--start-maximized\")\n",
    "chrome_options.add_argument(\"--disable-extensions\")\n",
    "chrome_options.add_argument(\"--disable-gpu\")\n",
    "chrome_options.add_argument(\"--no-sandbox\")\n",
    "chrome_options.add_argument(\"--disable-dev-shm-usage\")\n",
    "chrome_options.add_argument(\"--lang=en-US\")\n",
    "# chrome_options.add_argument(\"--blink-settings=imagesEnabled=false\")\n",
    "chrome_options.add_experimental_option(\"excludeSwitches\", [\"enable-automation\"])\n",
    "chrome_options.add_experimental_option(\"useAutomationExtension\", False)"
   ]
  },
  {
   "cell_type": "code",
   "execution_count": null,
   "metadata": {},
   "outputs": [
    {
     "name": "stdout",
     "output_type": "stream",
     "text": [
      "Không thấy popup chọn ngôn ngữ.\n"
     ]
    }
   ],
   "source": [
    "# --- Khởi tạo trình duyệt ---\n",
    "chrome_options = webdriver.ChromeOptions()\n",
    "chrome_options.add_argument(\"--start-maximized\")\n",
    "service = Service(ChromeDriverManager().install())\n",
    "driver = webdriver.Chrome(service=service, options=chrome_options)\n",
    "driver.implicitly_wait(10)\n",
    "\n",
    "# --- Mở URL ---\n",
    "url = \"https://www.tripadvisor.com.vn/Restaurants-g298085-oa60-Da_Nang.html\"\n",
    "driver.get(url)\n",
    "sleep(5)\n",
    "\n",
    "def close_popups(driver):\n",
    "    # 1. Đóng popup \"Visit our English (US) website\"\n",
    "    try:\n",
    "        popup_button = WebDriverWait(driver, 5).until(\n",
    "            EC.element_to_be_clickable((By.XPATH, \"//a[span[contains(text(), 'Visit our English (US) website')]]\"))\n",
    "        )\n",
    "        popup_button.click()\n",
    "        print(\"Đã click 'Visit our English (US) website'\")\n",
    "        sleep(2)  # chờ popup 2 load\n",
    "    except:\n",
    "        print(\"Không thấy popup chọn ngôn ngữ.\")\n",
    "    sleep(5) # chờ trang tải tiếp\n",
    "\n",
    "    # 2. Đóng popup quảng cáo (❌ hoặc ESC)\n",
    "    try:\n",
    "        close_button = WebDriverWait(driver, 5).until(\n",
    "            EC.element_to_be_clickable((By.XPATH, \"//button[contains(@class, 'close') or @aria-label='Close']\"))\n",
    "        )\n",
    "        close_button.click()\n",
    "        print(\"✅ Đã đóng popup quảng cáo bằng nút ❌\")\n",
    "    except:\n",
    "        try:\n",
    "            driver.find_element(By.TAG_NAME, \"body\").send_keys(Keys.ESCAPE)\n",
    "            print(\"Đã đóng popup quảng cáo bằng phím ESC\")\n",
    "        except:\n",
    "            print(\"Không thấy popup quảng cáo.\")\n",
    "\n",
    "# --- Gọi hàm đóng popup ---\n",
    "close_popups(driver)\n",
    "\n",
    "# --- Chọn filter Highest Rating ---\n",
    "try:\n",
    "    # Click mở dropdown Sort\n",
    "    sort_button = WebDriverWait(driver, 10).until(\n",
    "        EC.element_to_be_clickable((By.XPATH, \"//span[contains(text(),'Sort:')]\"))\n",
    "    )\n",
    "    sort_button.click()\n",
    "    print(\"Đã mở menu Sort\")\n",
    "\n",
    "    # Click chọn Highest Rating\n",
    "    highest_rating = WebDriverWait(driver, 10).until(\n",
    "        EC.element_to_be_clickable((By.XPATH, \"//div[contains(text(),'Highest Rating')]\"))\n",
    "    )\n",
    "    highest_rating.click()\n",
    "    print(\"✅ Đã chọn Highest Rating\")\n",
    "except Exception as e:\n",
    "    print(\"❌ Lỗi khi chọn filter:\", e)"
   ]
  },
  {
   "cell_type": "code",
   "execution_count": null,
   "metadata": {},
   "outputs": [],
   "source": []
  },
  {
   "cell_type": "code",
   "execution_count": 4,
   "metadata": {},
   "outputs": [
    {
     "name": "stdout",
     "output_type": "stream",
     "text": [
      "Không thấy popup chọn ngôn ngữ.\n",
      "Không thấy popup quảng cáo.\n"
     ]
    }
   ],
   "source": [
    "# --- Khởi tạo trình duyệt ---\n",
    "service = Service(ChromeDriverManager().install())\n",
    "driver = webdriver.Chrome(service=service, options=chrome_options)\n",
    "driver.implicitly_wait(10)\n",
    "\n",
    "# --- Mở URL ---\n",
    "url = \"https://www.tripadvisor.com.vn/Restaurants-g298085-oa60-Da_Nang.html\"\n",
    "driver.get(url)\n",
    "sleep(5)\n",
    "\n",
    "def close_popups(driver):\n",
    "    # 1. Đóng popup \"Visit our English (US) website\"\n",
    "    try:\n",
    "        popup_button = WebDriverWait(driver, 5).until(\n",
    "            EC.element_to_be_clickable((By.XPATH, \"//a[span[contains(text(), 'Visit our English (US) website')]]\"))\n",
    "        )\n",
    "        popup_button.click()\n",
    "        print(\"Đã click 'Visit our English (US) website'\")\n",
    "        sleep(2)  # chờ chút để popup 2 load\n",
    "    except:\n",
    "        print(\"Không thấy popup chọn ngôn ngữ.\")\n",
    "    sleep(10) # chờ trang tải tiếp\n",
    "\n",
    "    # 2. Đóng popup quảng cáo (❌ hoặc ESC)\n",
    "    try:\n",
    "        close_button = WebDriverWait(driver, 5).until(\n",
    "            EC.element_to_be_clickable((By.XPATH, \"//button[contains(@class, 'close') or @aria-label='Close']\"))\n",
    "        )\n",
    "        close_button.click()\n",
    "        print(\"✅ Đã đóng popup quảng cáo bằng nút ❌\")\n",
    "    except:\n",
    "        try:\n",
    "            driver.find_element(By.TAG_NAME, \"body\").send_keys(Keys.ESCAPE)\n",
    "            print(\"Đã đóng popup quảng cáo bằng phím ESC\")\n",
    "        except:\n",
    "            print(\"Không thấy popup quảng cáo.\")\n",
    "\n",
    "# --- Gọi hàm sau khi mở URL ---\n",
    "close_popups(driver)"
   ]
  },
  {
   "cell_type": "code",
   "execution_count": 5,
   "metadata": {},
   "outputs": [
    {
     "ename": "InvalidSessionIdException",
     "evalue": "Message: invalid session id; For documentation on this error, please visit: https://www.selenium.dev/documentation/webdriver/troubleshooting/errors#invalidsessionidexception\nStacktrace:\n\tGetHandleVerifier [0x0xbcc333+65459]\n\tGetHandleVerifier [0x0xbcc374+65524]\n\t(No symbol) [0x0x9ed7c0]\n\t(No symbol) [0x0xa2a663]\n\t(No symbol) [0x0xa59cb6]\n\t(No symbol) [0x0xa5555e]\n\t(No symbol) [0x0xa54ad3]\n\t(No symbol) [0x0x9be73d]\n\t(No symbol) [0x0x9becbe]\n\t(No symbol) [0x0x9bf15d]\n\tGetHandleVerifier [0x0xe4eda3+2697763]\n\tGetHandleVerifier [0x0xe49ec7+2677575]\n\tGetHandleVerifier [0x0xbf4194+228884]\n\tGetHandleVerifier [0x0xbe49f8+165496]\n\tGetHandleVerifier [0x0xbeb18d+192013]\n\t(No symbol) [0x0x9be3f2]\n\t(No symbol) [0x0x9bdb72]\n\tGetHandleVerifier [0x0xfa340c+4092044]\n\tBaseThreadInitThunk [0x0x76a95d49+25]\n\tRtlInitializeExceptionChain [0x0x770ad6db+107]\n\tRtlGetAppContainerNamedObjectPath [0x0x770ad661+561]\n",
     "output_type": "error",
     "traceback": [
      "\u001b[1;31m---------------------------------------------------------------------------\u001b[0m",
      "\u001b[1;31mInvalidSessionIdException\u001b[0m                 Traceback (most recent call last)",
      "Cell \u001b[1;32mIn[5], line 1\u001b[0m\n\u001b[1;32m----> 1\u001b[0m restaurant_elements \u001b[38;5;241m=\u001b[39m \u001b[43mWebDriverWait\u001b[49m\u001b[43m(\u001b[49m\u001b[43mdriver\u001b[49m\u001b[43m,\u001b[49m\u001b[43m \u001b[49m\u001b[38;5;241;43m15\u001b[39;49m\u001b[43m)\u001b[49m\u001b[38;5;241;43m.\u001b[39;49m\u001b[43muntil\u001b[49m\u001b[43m(\u001b[49m\n\u001b[0;32m      2\u001b[0m \u001b[43m    \u001b[49m\u001b[43mEC\u001b[49m\u001b[38;5;241;43m.\u001b[39;49m\u001b[43mpresence_of_all_elements_located\u001b[49m\u001b[43m(\u001b[49m\n\u001b[0;32m      3\u001b[0m \u001b[43m        \u001b[49m\u001b[43m(\u001b[49m\u001b[43mBy\u001b[49m\u001b[38;5;241;43m.\u001b[39;49m\u001b[43mCSS_SELECTOR\u001b[49m\u001b[43m,\u001b[49m\u001b[43m \u001b[49m\u001b[38;5;124;43m\"\u001b[39;49m\u001b[38;5;124;43ma[href*=\u001b[39;49m\u001b[38;5;124;43m'\u001b[39;49m\u001b[38;5;124;43mRestaurant_Review\u001b[39;49m\u001b[38;5;124;43m'\u001b[39;49m\u001b[38;5;124;43m] div.biGQs\u001b[39;49m\u001b[38;5;124;43m\"\u001b[39;49m\u001b[43m)\u001b[49m\n\u001b[0;32m      4\u001b[0m \u001b[43m    \u001b[49m\u001b[43m)\u001b[49m\n\u001b[0;32m      5\u001b[0m \u001b[43m)\u001b[49m\n\u001b[0;32m      7\u001b[0m Restaurant_name \u001b[38;5;241m=\u001b[39m [elem\u001b[38;5;241m.\u001b[39mtext\u001b[38;5;241m.\u001b[39mstrip() \u001b[38;5;28;01mfor\u001b[39;00m elem \u001b[38;5;129;01min\u001b[39;00m restaurant_elements \u001b[38;5;28;01mif\u001b[39;00m elem\u001b[38;5;241m.\u001b[39mtext\u001b[38;5;241m.\u001b[39mstrip() \u001b[38;5;241m!=\u001b[39m \u001b[38;5;124m\"\u001b[39m\u001b[38;5;124m\"\u001b[39m]\n\u001b[0;32m      8\u001b[0m \u001b[38;5;28;01mfor\u001b[39;00m name \u001b[38;5;129;01min\u001b[39;00m Restaurant_name:\n",
      "File \u001b[1;32m~\\AppData\\Roaming\\Python\\Python312\\site-packages\\selenium\\webdriver\\support\\wait.py:129\u001b[0m, in \u001b[0;36mWebDriverWait.until\u001b[1;34m(self, method, message)\u001b[0m\n\u001b[0;32m    127\u001b[0m \u001b[38;5;28;01mwhile\u001b[39;00m \u001b[38;5;28;01mTrue\u001b[39;00m:\n\u001b[0;32m    128\u001b[0m     \u001b[38;5;28;01mtry\u001b[39;00m:\n\u001b[1;32m--> 129\u001b[0m         value \u001b[38;5;241m=\u001b[39m \u001b[43mmethod\u001b[49m\u001b[43m(\u001b[49m\u001b[38;5;28;43mself\u001b[39;49m\u001b[38;5;241;43m.\u001b[39;49m\u001b[43m_driver\u001b[49m\u001b[43m)\u001b[49m\n\u001b[0;32m    130\u001b[0m         \u001b[38;5;28;01mif\u001b[39;00m value:\n\u001b[0;32m    131\u001b[0m             \u001b[38;5;28;01mreturn\u001b[39;00m value\n",
      "File \u001b[1;32m~\\AppData\\Roaming\\Python\\Python312\\site-packages\\selenium\\webdriver\\support\\expected_conditions.py:297\u001b[0m, in \u001b[0;36mpresence_of_all_elements_located.<locals>._predicate\u001b[1;34m(driver)\u001b[0m\n\u001b[0;32m    296\u001b[0m \u001b[38;5;28;01mdef\u001b[39;00m \u001b[38;5;21m_predicate\u001b[39m(driver: WebDriverOrWebElement):\n\u001b[1;32m--> 297\u001b[0m     \u001b[38;5;28;01mreturn\u001b[39;00m \u001b[43mdriver\u001b[49m\u001b[38;5;241;43m.\u001b[39;49m\u001b[43mfind_elements\u001b[49m\u001b[43m(\u001b[49m\u001b[38;5;241;43m*\u001b[39;49m\u001b[43mlocator\u001b[49m\u001b[43m)\u001b[49m\n",
      "File \u001b[1;32m~\\AppData\\Roaming\\Python\\Python312\\site-packages\\selenium\\webdriver\\remote\\webdriver.py:967\u001b[0m, in \u001b[0;36mWebDriver.find_elements\u001b[1;34m(self, by, value)\u001b[0m\n\u001b[0;32m    963\u001b[0m     \u001b[38;5;28;01mreturn\u001b[39;00m \u001b[38;5;28mself\u001b[39m\u001b[38;5;241m.\u001b[39mexecute_script(find_element_js, by\u001b[38;5;241m.\u001b[39mto_dict())\n\u001b[0;32m    965\u001b[0m \u001b[38;5;66;03m# Return empty list if driver returns null\u001b[39;00m\n\u001b[0;32m    966\u001b[0m \u001b[38;5;66;03m# See https://github.com/SeleniumHQ/selenium/issues/4555\u001b[39;00m\n\u001b[1;32m--> 967\u001b[0m \u001b[38;5;28;01mreturn\u001b[39;00m \u001b[38;5;28;43mself\u001b[39;49m\u001b[38;5;241;43m.\u001b[39;49m\u001b[43mexecute\u001b[49m\u001b[43m(\u001b[49m\u001b[43mCommand\u001b[49m\u001b[38;5;241;43m.\u001b[39;49m\u001b[43mFIND_ELEMENTS\u001b[49m\u001b[43m,\u001b[49m\u001b[43m \u001b[49m\u001b[43m{\u001b[49m\u001b[38;5;124;43m\"\u001b[39;49m\u001b[38;5;124;43musing\u001b[39;49m\u001b[38;5;124;43m\"\u001b[39;49m\u001b[43m:\u001b[49m\u001b[43m \u001b[49m\u001b[43mby\u001b[49m\u001b[43m,\u001b[49m\u001b[43m \u001b[49m\u001b[38;5;124;43m\"\u001b[39;49m\u001b[38;5;124;43mvalue\u001b[39;49m\u001b[38;5;124;43m\"\u001b[39;49m\u001b[43m:\u001b[49m\u001b[43m \u001b[49m\u001b[43mvalue\u001b[49m\u001b[43m}\u001b[49m\u001b[43m)\u001b[49m[\u001b[38;5;124m\"\u001b[39m\u001b[38;5;124mvalue\u001b[39m\u001b[38;5;124m\"\u001b[39m] \u001b[38;5;129;01mor\u001b[39;00m []\n",
      "File \u001b[1;32m~\\AppData\\Roaming\\Python\\Python312\\site-packages\\selenium\\webdriver\\remote\\webdriver.py:458\u001b[0m, in \u001b[0;36mWebDriver.execute\u001b[1;34m(self, driver_command, params)\u001b[0m\n\u001b[0;32m    455\u001b[0m response \u001b[38;5;241m=\u001b[39m cast(RemoteConnection, \u001b[38;5;28mself\u001b[39m\u001b[38;5;241m.\u001b[39mcommand_executor)\u001b[38;5;241m.\u001b[39mexecute(driver_command, params)\n\u001b[0;32m    457\u001b[0m \u001b[38;5;28;01mif\u001b[39;00m response:\n\u001b[1;32m--> 458\u001b[0m     \u001b[38;5;28;43mself\u001b[39;49m\u001b[38;5;241;43m.\u001b[39;49m\u001b[43merror_handler\u001b[49m\u001b[38;5;241;43m.\u001b[39;49m\u001b[43mcheck_response\u001b[49m\u001b[43m(\u001b[49m\u001b[43mresponse\u001b[49m\u001b[43m)\u001b[49m\n\u001b[0;32m    459\u001b[0m     response[\u001b[38;5;124m\"\u001b[39m\u001b[38;5;124mvalue\u001b[39m\u001b[38;5;124m\"\u001b[39m] \u001b[38;5;241m=\u001b[39m \u001b[38;5;28mself\u001b[39m\u001b[38;5;241m.\u001b[39m_unwrap_value(response\u001b[38;5;241m.\u001b[39mget(\u001b[38;5;124m\"\u001b[39m\u001b[38;5;124mvalue\u001b[39m\u001b[38;5;124m\"\u001b[39m, \u001b[38;5;28;01mNone\u001b[39;00m))\n\u001b[0;32m    460\u001b[0m     \u001b[38;5;28;01mreturn\u001b[39;00m response\n",
      "File \u001b[1;32m~\\AppData\\Roaming\\Python\\Python312\\site-packages\\selenium\\webdriver\\remote\\errorhandler.py:232\u001b[0m, in \u001b[0;36mErrorHandler.check_response\u001b[1;34m(self, response)\u001b[0m\n\u001b[0;32m    230\u001b[0m         alert_text \u001b[38;5;241m=\u001b[39m value[\u001b[38;5;124m\"\u001b[39m\u001b[38;5;124malert\u001b[39m\u001b[38;5;124m\"\u001b[39m]\u001b[38;5;241m.\u001b[39mget(\u001b[38;5;124m\"\u001b[39m\u001b[38;5;124mtext\u001b[39m\u001b[38;5;124m\"\u001b[39m)\n\u001b[0;32m    231\u001b[0m     \u001b[38;5;28;01mraise\u001b[39;00m exception_class(message, screen, stacktrace, alert_text)  \u001b[38;5;66;03m# type: ignore[call-arg]  # mypy is not smart enough here\u001b[39;00m\n\u001b[1;32m--> 232\u001b[0m \u001b[38;5;28;01mraise\u001b[39;00m exception_class(message, screen, stacktrace)\n",
      "\u001b[1;31mInvalidSessionIdException\u001b[0m: Message: invalid session id; For documentation on this error, please visit: https://www.selenium.dev/documentation/webdriver/troubleshooting/errors#invalidsessionidexception\nStacktrace:\n\tGetHandleVerifier [0x0xbcc333+65459]\n\tGetHandleVerifier [0x0xbcc374+65524]\n\t(No symbol) [0x0x9ed7c0]\n\t(No symbol) [0x0xa2a663]\n\t(No symbol) [0x0xa59cb6]\n\t(No symbol) [0x0xa5555e]\n\t(No symbol) [0x0xa54ad3]\n\t(No symbol) [0x0x9be73d]\n\t(No symbol) [0x0x9becbe]\n\t(No symbol) [0x0x9bf15d]\n\tGetHandleVerifier [0x0xe4eda3+2697763]\n\tGetHandleVerifier [0x0xe49ec7+2677575]\n\tGetHandleVerifier [0x0xbf4194+228884]\n\tGetHandleVerifier [0x0xbe49f8+165496]\n\tGetHandleVerifier [0x0xbeb18d+192013]\n\t(No symbol) [0x0x9be3f2]\n\t(No symbol) [0x0x9bdb72]\n\tGetHandleVerifier [0x0xfa340c+4092044]\n\tBaseThreadInitThunk [0x0x76a95d49+25]\n\tRtlInitializeExceptionChain [0x0x770ad6db+107]\n\tRtlGetAppContainerNamedObjectPath [0x0x770ad661+561]\n"
     ]
    }
   ],
   "source": [
    "restaurant_elements = WebDriverWait(driver, 15).until(\n",
    "    EC.presence_of_all_elements_located(\n",
    "        (By.CSS_SELECTOR, \"a[href*='Restaurant_Review'] div.biGQs\")\n",
    "    )\n",
    ")\n",
    "\n",
    "Restaurant_name = [elem.text.strip() for elem in restaurant_elements if elem.text.strip() != \"\"]\n",
    "for name in Restaurant_name:\n",
    "    print(\"-\", name)"
   ]
  },
  {
   "cell_type": "code",
   "execution_count": 16,
   "metadata": {},
   "outputs": [],
   "source": [
    "# Lấy div và span\n",
    "elems = driver.find_element(By.CSS_SELECTOR, \"div.rfqBq.f.e\")\n",
    "spans = elems.find_elements(By.XPATH, './div')"
   ]
  },
  {
   "cell_type": "code",
   "execution_count": 17,
   "metadata": {},
   "outputs": [
    {
     "ename": "AttributeError",
     "evalue": "'str' object has no attribute 'text'",
     "output_type": "error",
     "traceback": [
      "\u001b[1;31m---------------------------------------------------------------------------\u001b[0m",
      "\u001b[1;31mAttributeError\u001b[0m                            Traceback (most recent call last)",
      "Cell \u001b[1;32mIn[17], line 17\u001b[0m\n\u001b[0;32m     15\u001b[0m         \u001b[38;5;28;01mexcept\u001b[39;00m:\n\u001b[0;32m     16\u001b[0m             \u001b[38;5;28;01mpass\u001b[39;00m  \u001b[38;5;66;03m# Nếu lỗi thì thử XPath tiếp theo\u001b[39;00m\n\u001b[1;32m---> 17\u001b[0m     Restaurant_name\u001b[38;5;241m.\u001b[39mappend(\u001b[43melems_name\u001b[49m\u001b[38;5;241;43m.\u001b[39;49m\u001b[43mtext\u001b[49m\u001b[38;5;241m.\u001b[39mstrip())\n\u001b[0;32m     18\u001b[0m \u001b[38;5;28mprint\u001b[39m(\u001b[38;5;28mlen\u001b[39m(Restaurant_name))\n\u001b[0;32m     19\u001b[0m \u001b[38;5;28mprint\u001b[39m(Restaurant_name)\n",
      "\u001b[1;31mAttributeError\u001b[0m: 'str' object has no attribute 'text'"
     ]
    }
   ],
   "source": [
    "# Lặp qua từng span lấy tên nhà hàng\n",
    "Restaurant_name = []\n",
    "for span in spans:\n",
    "    xpaths = [\n",
    "        'a.BMQDV._F.Gv.bYExr.SwZTJ.FGwzt.ukgoS div'\n",
    "        # './div[1]/main/div[1]/div[4]/div[2]/div/div[1]/div[2]/div[1]/div/div/div/div[1]/div/div[2]/a/div'\n",
    "        # # './div/div/div/div[2]/div[1]/div/div[2]/div[1]/div[2]/a',\n",
    "        # # './div/div/div[2]/div[1]/div/div[2]/div[1]/div/a'\n",
    "    ]\n",
    "    elems_name = \"Không tìm thấy nhà hàng\" \n",
    "    for xpath in xpaths:\n",
    "        try:\n",
    "            elems_name = span.find_element(By.CSS_SELECTOR, xpath)\n",
    "            break  # Nếu tìm thấy thì dừng lại\n",
    "        except:\n",
    "            pass  # Nếu lỗi thì thử XPath tiếp theo\n",
    "    Restaurant_name.append(elems_name.text.strip())\n",
    "print(len(Restaurant_name))\n",
    "print(Restaurant_name)"
   ]
  },
  {
   "cell_type": "code",
   "execution_count": 6,
   "metadata": {},
   "outputs": [
    {
     "name": "stdout",
     "output_type": "stream",
     "text": [
      "34\n",
      "['https://www.tripadvisor.com/Restaurant_Review-g298085-d32837197-Reviews-The_DaNang-Da_Nang.html', 'https://www.tripadvisor.com/Restaurant_Review-g298085-d32807681-Reviews-Le_Petit_Bistro_Da_Nang-Da_Nang.html', 'https://www.tripadvisor.com/Restaurant_Review-g15296807-d13810289-Reviews-Thia_G_Restaurant_Da_Nang-My_An_Da_Nang.html', 'https://www.tripadvisor.com/Restaurant_Review-g298085-d27462758-Reviews-All_Seasons_Buffet_Da_Nang-Da_Nang.html', 'https://www.tripadvisor.com/Restaurant_Review-g27704560-d15059295-Reviews-Le_Comptoir_Danang-Ngu_Hanh_Son_Da_Nang.html', 'https://www.tripadvisor.com/Restaurant_Review-g17786366-d6895721-Reviews-Citron_Restaurant-Son_Tra_Peninsula_Da_Nang.html', 'https://www.tripadvisor.com/Restaurant_Review-g298085-d27166754-Reviews-Xom_M_i_Garden_Da_N_ng-Da_Nang.html', 'https://www.tripadvisor.com/Restaurant_Review-g298085-d8527479-Reviews-Fatfish_Restaurant_Lounge_Bar-Da_Nang.html', 'https://www.tripadvisor.com/Restaurant_Review-g298085-d17760929-Reviews-B_p_Cu_n_Da_N_ng-Da_Nang.html', 'https://www.tripadvisor.com/Restaurant_Review-g298085-d16891168-Reviews-M_c_Seafood-Da_Nang.html', 'https://www.tripadvisor.com/Restaurant_Review-g298085-d12254273-Reviews-Olivia_s_Prime_Steakhouse-Da_Nang.html', 'https://www.tripadvisor.com/Restaurant_Review-g298085-d27988672-Reviews-Thien_Kim_Restaurant_Danang_Vietnam-Da_Nang.html', 'https://www.tripadvisor.com/Restaurant_Review-g298085-d25457908-Reviews-Vive_Oceane_Beach_Club_Restaurant-Da_Nang.html', 'https://www.tripadvisor.com/Restaurant_Review-g298085-d18965823-Reviews-Golden_Meat_House-Da_Nang.html', 'https://www.tripadvisor.com/Restaurant_Review-g298085-d30051760-Reviews-Lan_Gio_Restaurant-Da_Nang.html', 'https://www.tripadvisor.com/Restaurant_Review-g298085-d26732417-Reviews-Pink_Salt_Restaurant-Da_Nang.html', 'https://www.tripadvisor.com/Restaurant_Review-g298085-d8110062-Reviews-SUSHI_Be-Da_Nang.html', 'https://www.tripadvisor.com/Restaurant_Review-g298085-d24982748-Reviews-An_Thoi_Da_Nang-Da_Nang.html', 'https://www.tripadvisor.com/Restaurant_Review-g298085-d29037178-Reviews-Banh_Xeo_Cuoi_Ha_Noi_Egg_Coffee-Da_Nang.html', 'https://www.tripadvisor.com/Restaurant_Review-g298085-d11962134-Reviews-Brilliant_Top_Bar-Da_Nang.html', 'https://www.tripadvisor.com/Restaurant_Review-g298085-d15661457-Reviews-The_Temptation_Restaurant-Da_Nang.html', 'https://www.tripadvisor.com/Restaurant_Review-g298085-d25271252-Reviews-D_c_M_c_Buffet-Da_Nang.html', 'https://www.tripadvisor.com/Restaurant_Review-g298085-d27095738-Reviews-Rang_danang-Da_Nang.html', 'https://www.tripadvisor.com/Restaurant_Review-g298085-d8527479-Reviews-Fatfish_Restaurant_Lounge_Bar-Da_Nang.html', 'https://www.tripadvisor.com/Restaurant_Review-g298085-d25073751-Reviews-La_Cabana_House_of_BBQ-Da_Nang.html', 'https://www.tripadvisor.com/Restaurant_Review-g298085-d24915485-Reviews-Nha_Hang_Nha_B_p_Ch_Han-Da_Nang.html', 'https://www.tripadvisor.com/Restaurant_Review-g298085-d7000524-Reviews-Ca_Chuon_Co_Restaurant_Vietnamese_Cuisine-Da_Nang.html', 'https://www.tripadvisor.com/Restaurant_Review-g298085-d2724207-Reviews-Madame_Lan-Da_Nang.html', 'https://www.tripadvisor.com/Restaurant_Review-g298085-d3187207-Reviews-The_Golden_Dragon-Da_Nang.html', 'https://www.tripadvisor.com/Restaurant_Review-g298085-d15216444-Reviews-Brilliant_Restaurant-Da_Nang.html', 'https://www.tripadvisor.com/Restaurant_Review-g298085-d25502987-Reviews-The_Gypsy_Rooftop_Restaurant_Bar-Da_Nang.html', 'https://www.tripadvisor.com/Restaurant_Review-g298085-d1817077-Reviews-Red_Sky_Steakhouse-Da_Nang.html', 'https://www.tripadvisor.com/Restaurant_Review-g298085-d3899905-Reviews-La_Maison_1888-Da_Nang.html', 'https://www.tripadvisor.com/Restaurant_Review-g26818864-d14186321-Reviews-The_Grill_Restaurant-Hoa_Hai_Da_Nang.html']\n"
     ]
    }
   ],
   "source": [
    "# Lấy links\n",
    "Links = []\n",
    "for span in spans:\n",
    "    try:\n",
    "        elems_link = span.find_element(By.CSS_SELECTOR, 'a').get_attribute('href')\n",
    "        Links.append(elems_link)\n",
    "    except:\n",
    "        Links.append(\"Không tìm thấy link\")  # Xử lý trường hợp không tìm thấy link\n",
    "print(len(Links))\n",
    "print(Links)"
   ]
  },
  {
   "cell_type": "code",
   "execution_count": 7,
   "metadata": {},
   "outputs": [
    {
     "name": "stdout",
     "output_type": "stream",
     "text": [
      "34\n",
      "['14 reviews', '28 reviews', '3,262 reviews', '260 reviews', '239 reviews', '945 reviews', '814 reviews', '811 reviews', '546 reviews', '349 reviews', '578 reviews', '566 reviews', '136 reviews', '164 reviews', '120 reviews', '527 reviews', '97 reviews', '787 reviews', '39 reviews', '1,295 reviews', '140 reviews', '36 reviews', '242 reviews', '811 reviews', '333 reviews', '1,155 reviews', '746 reviews', '2,091 reviews', '413 reviews', '292 reviews', '410 reviews', '1,058 reviews', '554 reviews', '422 reviews']\n"
     ]
    }
   ],
   "source": [
    "# Lấy số lượng review \n",
    "Num_of_Reviews = []\n",
    "# Danh sách các XPath có thể xảy ra\n",
    "for span in spans:\n",
    "    xpaths = [\n",
    "    \"./div/div/div/div[2]/div[1]/div/div[2]/div[2]/div/div[1]/span[1]/span/span/a/span[2]\",\n",
    "    \"./div/div/div[2]/div[1]/div/div[2]/div[2]/div[1]/div[1]/span[1]/span/span/a/span[2]\"\n",
    "    ]\n",
    "    elems_review = \"Không tìm thấy số lượng đánh giá\"  # Mặc định nếu không tìm thấy\n",
    "    for xpath in xpaths:\n",
    "        try:\n",
    "            elems_review = span.find_element(By.XPATH, xpath)\n",
    "            break\n",
    "        except:\n",
    "            pass  # Nếu không tìm thấy phần tử thì thử XPath tiếp theo\n",
    "    Num_of_Reviews.append(elems_review.text.strip())\n",
    "print(len(Num_of_Reviews))\n",
    "print(Num_of_Reviews)"
   ]
  },
  {
   "cell_type": "code",
   "execution_count": 8,
   "metadata": {},
   "outputs": [
    {
     "name": "stdout",
     "output_type": "stream",
     "text": [
      "34\n",
      "['Vietnamese', 'Italian, French', 'Vietnamese', 'Seafood, Asian', 'French', 'Asian, Vietnamese', 'Cafe, Barbecue', 'Pizza, Seafood', 'Asian, Vietnamese', 'Seafood, Asian', 'American, Steakhouse', 'Asian, Vietnamese', 'Mediterranean', 'Steakhouse, Barbecue', 'Asian, Vietnamese', 'Seafood, International', 'Japanese, Sushi', 'Asian, Grill', 'Chinese, Asian', 'Steakhouse, Bar', 'French', 'Seafood, Barbecue', 'Indian, Mediterranean', 'Pizza, Seafood', 'Steakhouse, Grill', 'Seafood, Asian', 'Cafe, International', 'Asian, Vietnamese', 'Chinese, International', 'Seafood, Asian', 'Bar, Mediterranean', 'Steakhouse, International', 'French, European', 'Steakhouse, Seafood']\n"
     ]
    }
   ],
   "source": [
    "# Lấy loại món ăn\n",
    "Cuisines = []\n",
    "# Danh sách các XPath có thể xảy ra\n",
    "for span in spans:\n",
    "    xpaths = [\n",
    "        \"./div/div/div/div[2]/div[1]/div/div[2]/div[2]/div/div[2]/span[1]/span\",\n",
    "        \"./div/div/div[2]/div[1]/div/div[2]/div[2]/div[1]/div[2]/span[1]/span\" \n",
    "    ]\n",
    "    elems_cuisines = \"Không tìm thấy giá\"  # Mặc định nếu không tìm thấy\n",
    "    for xpath in xpaths:\n",
    "        try:\n",
    "            elems_cuisines = span.find_element(By.XPATH, xpath)\n",
    "            break   # Nếu tìm thấy text thì dừng vòng lặp\n",
    "        except:\n",
    "            pass    # Nếu không tìm thấy phần tử thì thử XPath tiếp theo\n",
    "    Cuisines.append(elems_cuisines.text.strip())\n",
    "print(len(Cuisines))\n",
    "print(Cuisines)"
   ]
  },
  {
   "cell_type": "code",
   "execution_count": 9,
   "metadata": {},
   "outputs": [
    {
     "name": "stdout",
     "output_type": "stream",
     "text": [
      "34\n",
      "['$', '$$ - $$$', '$', '$$ - $$$', '$$ - $$$', '$$ - $$$', '$$ - $$$', '$$ - $$$', '$$ - $$$', '$', '$$$$', '$$ - $$$', '$$ - $$$', '$$ - $$$', '$', '$$ - $$$', '$$$$', '$$ - $$$', '$', '$$ - $$$', '$$$$', '$$ - $$$', '$$$$', '$$ - $$$', '$$ - $$$', '$$ - $$$', '$$ - $$$', '$$ - $$$', '$$ - $$$', '$$$$', '$$$$', '$$ - $$$', '$$$$', '$$ - $$$']\n"
     ]
    }
   ],
   "source": [
    "# Lấy mức giá\n",
    "Prices = []\n",
    "# Danh sách các XPath có thể xảy ra\n",
    "for span in spans:\n",
    "    xpaths = [\n",
    "        \"./div/div/div/div[2]/div[1]/div/div[2]/div[2]/div/div[2]/span[2]/span\",\n",
    "        \"./div/div/div[2]/div[1]/div/div[2]/div[2]/div[1]/div[2]/span[2]/span\" \n",
    "    ]\n",
    "    elems_prices = \"Không tìm thấy giá\"  # Mặc định nếu không tìm thấy\n",
    "    for xpath in xpaths:\n",
    "        try:\n",
    "            elems_prices = span.find_element(By.XPATH, xpath) \n",
    "            break   # Nếu tìm thấy text thì dừng vòng lặp\n",
    "        except:\n",
    "            pass    # Nếu không tìm thấy phần tử thì thử XPath tiếp theo\n",
    "    Prices.append(elems_prices.text.strip())\n",
    "print(len(Prices))\n",
    "print(Prices)"
   ]
  },
  {
   "cell_type": "code",
   "execution_count": 10,
   "metadata": {},
   "outputs": [
    {
     "name": "stdout",
     "output_type": "stream",
     "text": [
      "34\n",
      "['5.0 of 5 bubbles', '5.0 of 5 bubbles', '5.0 of 5 bubbles', '5.0 of 5 bubbles', '5.0 of 5 bubbles', '4.5 of 5 bubbles', '5.0 of 5 bubbles', '4.5 of 5 bubbles', '5.0 of 5 bubbles', '5.0 of 5 bubbles', '4.5 of 5 bubbles', '5.0 of 5 bubbles', '5.0 of 5 bubbles', '5.0 of 5 bubbles', '5.0 of 5 bubbles', '5.0 of 5 bubbles', '4.5 of 5 bubbles', '5.0 of 5 bubbles', '5.0 of 5 bubbles', '5.0 of 5 bubbles', '4.5 of 5 bubbles', '4.5 of 5 bubbles', '5.0 of 5 bubbles', '4.5 of 5 bubbles', '5.0 of 5 bubbles', '5.0 of 5 bubbles', '5.0 of 5 bubbles', '4.0 of 5 bubbles', '5.0 of 5 bubbles', '5.0 of 5 bubbles', '5.0 of 5 bubbles', '4.5 of 5 bubbles', '4.5 of 5 bubbles', '5.0 of 5 bubbles']\n"
     ]
    }
   ],
   "source": [
    "Rating_average = []\n",
    "for span in spans:\n",
    "    try:\n",
    "        elems_rating = span.find_element(By.CSS_SELECTOR, 'svg title').get_attribute('textContent')\n",
    "        Rating_average.append(elems_rating)\n",
    "    except:\n",
    "        Rating_average.append(\"Không tìm thấy rating\")  # Xử lý trường hợp không tìm thấy link\n",
    "print(len(Rating_average))\n",
    "print(Rating_average)"
   ]
  },
  {
   "cell_type": "code",
   "execution_count": 11,
   "metadata": {},
   "outputs": [
    {
     "name": "stdout",
     "output_type": "stream",
     "text": [
      "                                    Restaurant_Name  \\\n",
      "0                                        The DaNang   \n",
      "1                           Le Petit Bistro Da Nang   \n",
      "2                     1. Thìa Gỗ Restaurant Da Nang   \n",
      "3                   2. All Seasons Buffet - Da Nang   \n",
      "4                             3. Le Comptoir Danang   \n",
      "5                              4. Citron Restaurant   \n",
      "6                         5. Xóm Mới Garden Đà Nẵng   \n",
      "7                   Fatfish Restaurant & Lounge Bar   \n",
      "8                               6. Bếp Cuốn Đà Nẵng   \n",
      "9                                    7. Mộc Seafood   \n",
      "10                     8. Olivia's Prime Steakhouse   \n",
      "11        9. Thien Kim Restaurant - Danang, Vietnam   \n",
      "12        10. Vive Oceane - Beach Club & Restaurant   \n",
      "13                            11. Golden Meat House   \n",
      "14                           12. Lan Gio Restaurant   \n",
      "15                         13. Pink Salt Restaurant   \n",
      "16                                     14. SUSHI-Be   \n",
      "17                              15. An Thoi Da Nang   \n",
      "18                Banh Xeo Cuoi - Ha Noi Egg Coffee   \n",
      "19                            16. Brilliant Top Bar   \n",
      "20                    17. The Temptation Restaurant   \n",
      "21                               18. Độc Mộc Buffet   \n",
      "22                                  19. Rang.danang   \n",
      "23              20. Fatfish Restaurant & Lounge Bar   \n",
      "24                     21. La Cabana - House of BBQ   \n",
      "25                     22. Nhà Hàng Nhà Bếp Chợ Hàn   \n",
      "26  23. Ca Chuon Co Restaurant - Vietnamese Cuisine   \n",
      "27                                   24. Madame Lân   \n",
      "28                            25. The Golden Dragon   \n",
      "29                         26. Brilliant Restaurant   \n",
      "30           27. The Gypsy Rooftop Restaurant & Bar   \n",
      "31                           28. Red Sky Steakhouse   \n",
      "32                               29. La Maison 1888   \n",
      "33                         30. The Grill Restaurant   \n",
      "\n",
      "                                                Links           Ratings  \\\n",
      "0   https://www.tripadvisor.com/Restaurant_Review-...  5.0 of 5 bubbles   \n",
      "1   https://www.tripadvisor.com/Restaurant_Review-...  5.0 of 5 bubbles   \n",
      "2   https://www.tripadvisor.com/Restaurant_Review-...  5.0 of 5 bubbles   \n",
      "3   https://www.tripadvisor.com/Restaurant_Review-...  5.0 of 5 bubbles   \n",
      "4   https://www.tripadvisor.com/Restaurant_Review-...  5.0 of 5 bubbles   \n",
      "5   https://www.tripadvisor.com/Restaurant_Review-...  4.5 of 5 bubbles   \n",
      "6   https://www.tripadvisor.com/Restaurant_Review-...  5.0 of 5 bubbles   \n",
      "7   https://www.tripadvisor.com/Restaurant_Review-...  4.5 of 5 bubbles   \n",
      "8   https://www.tripadvisor.com/Restaurant_Review-...  5.0 of 5 bubbles   \n",
      "9   https://www.tripadvisor.com/Restaurant_Review-...  5.0 of 5 bubbles   \n",
      "10  https://www.tripadvisor.com/Restaurant_Review-...  4.5 of 5 bubbles   \n",
      "11  https://www.tripadvisor.com/Restaurant_Review-...  5.0 of 5 bubbles   \n",
      "12  https://www.tripadvisor.com/Restaurant_Review-...  5.0 of 5 bubbles   \n",
      "13  https://www.tripadvisor.com/Restaurant_Review-...  5.0 of 5 bubbles   \n",
      "14  https://www.tripadvisor.com/Restaurant_Review-...  5.0 of 5 bubbles   \n",
      "15  https://www.tripadvisor.com/Restaurant_Review-...  5.0 of 5 bubbles   \n",
      "16  https://www.tripadvisor.com/Restaurant_Review-...  4.5 of 5 bubbles   \n",
      "17  https://www.tripadvisor.com/Restaurant_Review-...  5.0 of 5 bubbles   \n",
      "18  https://www.tripadvisor.com/Restaurant_Review-...  5.0 of 5 bubbles   \n",
      "19  https://www.tripadvisor.com/Restaurant_Review-...  5.0 of 5 bubbles   \n",
      "20  https://www.tripadvisor.com/Restaurant_Review-...  4.5 of 5 bubbles   \n",
      "21  https://www.tripadvisor.com/Restaurant_Review-...  4.5 of 5 bubbles   \n",
      "22  https://www.tripadvisor.com/Restaurant_Review-...  5.0 of 5 bubbles   \n",
      "23  https://www.tripadvisor.com/Restaurant_Review-...  4.5 of 5 bubbles   \n",
      "24  https://www.tripadvisor.com/Restaurant_Review-...  5.0 of 5 bubbles   \n",
      "25  https://www.tripadvisor.com/Restaurant_Review-...  5.0 of 5 bubbles   \n",
      "26  https://www.tripadvisor.com/Restaurant_Review-...  5.0 of 5 bubbles   \n",
      "27  https://www.tripadvisor.com/Restaurant_Review-...  4.0 of 5 bubbles   \n",
      "28  https://www.tripadvisor.com/Restaurant_Review-...  5.0 of 5 bubbles   \n",
      "29  https://www.tripadvisor.com/Restaurant_Review-...  5.0 of 5 bubbles   \n",
      "30  https://www.tripadvisor.com/Restaurant_Review-...  5.0 of 5 bubbles   \n",
      "31  https://www.tripadvisor.com/Restaurant_Review-...  4.5 of 5 bubbles   \n",
      "32  https://www.tripadvisor.com/Restaurant_Review-...  4.5 of 5 bubbles   \n",
      "33  https://www.tripadvisor.com/Restaurant_Review-...  5.0 of 5 bubbles   \n",
      "\n",
      "   Num_of_Reviews                   Cuisines     Price  \n",
      "0      14 reviews                 Vietnamese         $  \n",
      "1      28 reviews            Italian, French  $$ - $$$  \n",
      "2   3,262 reviews                 Vietnamese         $  \n",
      "3     260 reviews             Seafood, Asian  $$ - $$$  \n",
      "4     239 reviews                     French  $$ - $$$  \n",
      "5     945 reviews          Asian, Vietnamese  $$ - $$$  \n",
      "6     814 reviews             Cafe, Barbecue  $$ - $$$  \n",
      "7     811 reviews             Pizza, Seafood  $$ - $$$  \n",
      "8     546 reviews          Asian, Vietnamese  $$ - $$$  \n",
      "9     349 reviews             Seafood, Asian         $  \n",
      "10    578 reviews       American, Steakhouse      $$$$  \n",
      "11    566 reviews          Asian, Vietnamese  $$ - $$$  \n",
      "12    136 reviews              Mediterranean  $$ - $$$  \n",
      "13    164 reviews       Steakhouse, Barbecue  $$ - $$$  \n",
      "14    120 reviews          Asian, Vietnamese         $  \n",
      "15    527 reviews     Seafood, International  $$ - $$$  \n",
      "16     97 reviews            Japanese, Sushi      $$$$  \n",
      "17    787 reviews               Asian, Grill  $$ - $$$  \n",
      "18     39 reviews             Chinese, Asian         $  \n",
      "19  1,295 reviews            Steakhouse, Bar  $$ - $$$  \n",
      "20    140 reviews                     French      $$$$  \n",
      "21     36 reviews          Seafood, Barbecue  $$ - $$$  \n",
      "22    242 reviews      Indian, Mediterranean      $$$$  \n",
      "23    811 reviews             Pizza, Seafood  $$ - $$$  \n",
      "24    333 reviews          Steakhouse, Grill  $$ - $$$  \n",
      "25  1,155 reviews             Seafood, Asian  $$ - $$$  \n",
      "26    746 reviews        Cafe, International  $$ - $$$  \n",
      "27  2,091 reviews          Asian, Vietnamese  $$ - $$$  \n",
      "28    413 reviews     Chinese, International  $$ - $$$  \n",
      "29    292 reviews             Seafood, Asian      $$$$  \n",
      "30    410 reviews         Bar, Mediterranean      $$$$  \n",
      "31  1,058 reviews  Steakhouse, International  $$ - $$$  \n",
      "32    554 reviews           French, European      $$$$  \n",
      "33    422 reviews        Steakhouse, Seafood  $$ - $$$  \n"
     ]
    }
   ],
   "source": [
    "import pandas as pd\n",
    "\n",
    "# Tạo DataFrame từ các danh sách đã thu thập\n",
    "data = {\n",
    "    \"Restaurant_Name\": Restaurant_name,\n",
    "    \"Links\": Links,\n",
    "    \"Ratings\": Rating_average,\n",
    "    \"Num_of_Reviews\": Num_of_Reviews,\n",
    "    \"Cuisines\": Cuisines,\n",
    "    \"Price\": Prices\n",
    "}\n",
    "\n",
    "# Chuyển đổi thành DataFrame, tự động xử lý độ dài khác nhau bằng cách điền NaN\n",
    "df = pd.DataFrame(dict([(k, pd.Series(v)) for k, v in data.items()]))\n",
    "\n",
    "# Hiển thị DataFrame\n",
    "print(df)"
   ]
  },
  {
   "cell_type": "code",
   "execution_count": 12,
   "metadata": {},
   "outputs": [],
   "source": [
    "df.to_csv(\"restaurant_data.csv\", index=False, encoding=\"utf-8-sig\")"
   ]
  }
 ],
 "metadata": {
  "kernelspec": {
   "display_name": "Python 3",
   "language": "python",
   "name": "python3"
  },
  "language_info": {
   "codemirror_mode": {
    "name": "ipython",
    "version": 3
   },
   "file_extension": ".py",
   "mimetype": "text/x-python",
   "name": "python",
   "nbconvert_exporter": "python",
   "pygments_lexer": "ipython3",
   "version": "3.12.6"
  }
 },
 "nbformat": 4,
 "nbformat_minor": 2
}
