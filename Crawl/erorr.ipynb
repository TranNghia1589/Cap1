{
 "cells": [
  {
   "cell_type": "code",
   "execution_count": null,
   "id": "241c2009",
   "metadata": {},
   "outputs": [],
   "source": [
    "import pandas as pd\n",
    "import numpy as np"
   ]
  },
  {
   "cell_type": "code",
   "execution_count": null,
   "id": "8327cc4a",
   "metadata": {},
   "outputs": [],
   "source": [
    "pd.set_option('display.max_rows', None)"
   ]
  },
  {
   "cell_type": "code",
   "execution_count": null,
   "id": "38287415",
   "metadata": {},
   "outputs": [],
   "source": [
    "res_1 = pd.read_csv(r'D:\\Nam3_Ky2\\DeAnThucHanh\\Crawl\\restaurants.csv')\n",
    "rew = pd.read_csv(r'C:\\Users\\acer\\Downloads\\reviews.csv')"
   ]
  },
  {
   "cell_type": "code",
   "execution_count": null,
   "id": "aa457639",
   "metadata": {},
   "outputs": [],
   "source": [
    "rew_new = rew.copy()"
   ]
  },
  {
   "cell_type": "code",
   "execution_count": null,
   "id": "01502a6b",
   "metadata": {},
   "outputs": [],
   "source": []
  },
  {
   "cell_type": "code",
   "execution_count": null,
   "id": "0c9082ea",
   "metadata": {},
   "outputs": [],
   "source": [
    "rew_new = rew.copy()\n",
    "rew_new.loc[rew_new['Restaurant_id'] >= 51, 'Restaurant_id'] -= 1"
   ]
  },
  {
   "cell_type": "code",
   "execution_count": null,
   "id": "2a716a6c",
   "metadata": {},
   "outputs": [],
   "source": [
    "rew_new = rew_new[rew_new['Restaurant_id'] != 50]"
   ]
  },
  {
   "cell_type": "code",
   "execution_count": null,
   "id": "ddfd85d6",
   "metadata": {},
   "outputs": [],
   "source": [
    "id_counts1 = rew['Restaurant_id'].value_counts()\n",
    "print(id_counts1)"
   ]
  },
  {
   "cell_type": "code",
   "execution_count": null,
   "id": "91c3a8e7",
   "metadata": {},
   "outputs": [],
   "source": [
    "count_sorted = (\n",
    "    rew_new.groupby('Restaurant_id')\n",
    "    .size()\n",
    "    .reset_index(name='so_luong_dong')\n",
    "    .sort_values(by='Restaurant_id', ascending=True)\n",
    ")\n",
    "\n",
    "print(count_sorted)\n"
   ]
  },
  {
   "cell_type": "code",
   "execution_count": null,
   "id": "8c040e2b",
   "metadata": {},
   "outputs": [],
   "source": [
    "# output_path = \"reviews_update.csv\"\n",
    "# rew.to_csv(output_path, index=False, encoding='utf-8-sig')"
   ]
  }
 ],
 "metadata": {
  "kernelspec": {
   "display_name": "venv",
   "language": "python",
   "name": "python3"
  },
  "language_info": {
   "codemirror_mode": {
    "name": "ipython",
    "version": 3
   },
   "file_extension": ".py",
   "mimetype": "text/x-python",
   "name": "python",
   "nbconvert_exporter": "python",
   "pygments_lexer": "ipython3",
   "version": "3.12.6"
  }
 },
 "nbformat": 4,
 "nbformat_minor": 5
}
