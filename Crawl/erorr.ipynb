{
 "cells": [
  {
   "cell_type": "code",
   "execution_count": null,
   "id": "241c2009",
   "metadata": {},
   "outputs": [],
   "source": [
    "import pandas as pd\n",
    "import numpy as np"
   ]
  },
  {
   "cell_type": "code",
   "execution_count": null,
   "id": "8327cc4a",
   "metadata": {},
   "outputs": [],
   "source": [
    "pd.set_option('display.max_rows', None)"
   ]
  },
  {
   "cell_type": "code",
   "execution_count": null,
   "id": "38287415",
   "metadata": {},
   "outputs": [],
   "source": [
    "res_1 = pd.read_csv(r'D:\\Nam3_Ky2\\DeAnThucHanh\\Crawl\\restaurants.csv')\n",
    "rew = pd.read_csv(r'C:\\Users\\acer\\Downloads\\reviews.csv')"
   ]
  },
  {
   "cell_type": "code",
   "execution_count": null,
   "id": "aa457639",
   "metadata": {},
   "outputs": [],
   "source": [
    "rew_new = rew.copy()"
   ]
  },
  {
   "cell_type": "code",
   "execution_count": null,
   "id": "01502a6b",
   "metadata": {},
   "outputs": [],
   "source": []
  },
  {
   "cell_type": "code",
   "execution_count": 30,
   "id": "0c9082ea",
   "metadata": {},
   "outputs": [],
   "source": [
    "rew_new = rew.copy()\n",
    "rew_new.loc[rew_new['Restaurant_id'] >= 51, 'Restaurant_id'] -= 1"
   ]
  },
  {
   "cell_type": "code",
   "execution_count": 31,
   "id": "2a716a6c",
   "metadata": {},
   "outputs": [],
   "source": [
    "rew_new = rew_new[rew_new['Restaurant_id'] != 50]"
   ]
  },
  {
   "cell_type": "code",
   "execution_count": 33,
   "id": "ddfd85d6",
   "metadata": {},
   "outputs": [
    {
     "name": "stdout",
     "output_type": "stream",
     "text": [
      "Restaurant_id\n",
      "54     1223\n",
      "5      1122\n",
      "31     1032\n",
      "18      822\n",
      "39      819\n",
      "137     744\n",
      "100     743\n",
      "14      718\n",
      "102     715\n",
      "29      700\n",
      "53      689\n",
      "116     685\n",
      "90      664\n",
      "44      638\n",
      "11      609\n",
      "109     561\n",
      "133     553\n",
      "16      544\n",
      "103     530\n",
      "42      528\n",
      "41      503\n",
      "10      479\n",
      "19      472\n",
      "87      457\n",
      "130     446\n",
      "33      441\n",
      "128     434\n",
      "96      433\n",
      "122     414\n",
      "67      393\n",
      "22      383\n",
      "97      371\n",
      "117     370\n",
      "43      362\n",
      "110     359\n",
      "63      351\n",
      "91      350\n",
      "81      346\n",
      "40      334\n",
      "106     313\n",
      "46      294\n",
      "119     290\n",
      "52      289\n",
      "105     285\n",
      "71      270\n",
      "32      257\n",
      "115     257\n",
      "78      253\n",
      "85      241\n",
      "28      239\n",
      "99      236\n",
      "70      235\n",
      "62      234\n",
      "123     232\n",
      "76      212\n",
      "49      201\n",
      "129     196\n",
      "36      189\n",
      "79      182\n",
      "84      173\n",
      "66      167\n",
      "131     142\n",
      "60      137\n",
      "107     135\n",
      "140     120\n",
      "132     117\n",
      "139     114\n",
      "50      100\n",
      "111     100\n",
      "45      100\n",
      "65       95\n",
      "108      87\n",
      "69       77\n",
      "98       57\n",
      "142      57\n",
      "38       52\n",
      "104      51\n",
      "93       42\n",
      "95       37\n",
      "48       29\n",
      "101      28\n",
      "136       6\n",
      "112       4\n",
      "Name: count, dtype: int64\n"
     ]
    }
   ],
   "source": [
    "id_counts1 = rew['Restaurant_id'].value_counts()\n",
    "print(id_counts1)"
   ]
  },
  {
   "cell_type": "code",
   "execution_count": 43,
   "id": "91c3a8e7",
   "metadata": {},
   "outputs": [
    {
     "name": "stdout",
     "output_type": "stream",
     "text": [
      "    Restaurant_id  so_luong_dong\n",
      "0               5           1122\n",
      "1              10            479\n",
      "2              11            609\n",
      "3              14            718\n",
      "4              16            544\n",
      "5              18            822\n",
      "6              19            472\n",
      "7              22            383\n",
      "8              28            239\n",
      "9              29            700\n",
      "10             31           1032\n",
      "11             32            257\n",
      "12             33            441\n",
      "13             36            189\n",
      "14             38             52\n",
      "15             39            819\n",
      "16             40            334\n",
      "17             41            503\n",
      "18             42            528\n",
      "19             43            362\n",
      "20             44            638\n",
      "21             45            100\n",
      "22             46            294\n",
      "23             48             29\n",
      "24             49            201\n",
      "25             51            289\n",
      "26             52            689\n",
      "27             53           1223\n",
      "28             59            137\n",
      "29             61            234\n",
      "30             62            351\n",
      "31             64             95\n",
      "32             65            167\n",
      "33             66            393\n",
      "34             68             77\n",
      "35             69            235\n",
      "36             70            270\n",
      "37             75            212\n",
      "38             77            253\n",
      "39             78            182\n",
      "40             80            346\n",
      "41             83            173\n",
      "42             84            241\n",
      "43             86            457\n",
      "44             89            664\n",
      "45             90            350\n",
      "46             92             42\n",
      "47             94             37\n",
      "48             95            433\n",
      "49             96            371\n",
      "50             97             57\n",
      "51             98            236\n",
      "52             99            743\n",
      "53            100             28\n",
      "54            101            715\n",
      "55            102            530\n",
      "56            103             51\n",
      "57            104            285\n",
      "58            105            313\n",
      "59            106            135\n",
      "60            107             87\n",
      "61            108            561\n",
      "62            109            359\n",
      "63            110            100\n",
      "64            111              4\n",
      "65            114            257\n",
      "66            115            685\n",
      "67            116            370\n",
      "68            118            290\n",
      "69            121            414\n",
      "70            122            232\n",
      "71            127            434\n",
      "72            128            196\n",
      "73            129            446\n",
      "74            130            142\n",
      "75            131            117\n",
      "76            132            553\n",
      "77            135              6\n",
      "78            136            744\n",
      "79            138            114\n",
      "80            139            120\n",
      "81            141             57\n"
     ]
    }
   ],
   "source": [
    "count_sorted = (\n",
    "    rew_new.groupby('Restaurant_id')\n",
    "    .size()\n",
    "    .reset_index(name='so_luong_dong')\n",
    "    .sort_values(by='Restaurant_id', ascending=True)\n",
    ")\n",
    "\n",
    "print(count_sorted)\n"
   ]
  },
  {
   "cell_type": "code",
   "execution_count": null,
   "id": "8c040e2b",
   "metadata": {},
   "outputs": [],
   "source": [
    "# output_path = \"reviews_update.csv\"\n",
    "# rew.to_csv(output_path, index=False, encoding='utf-8-sig')"
   ]
  }
 ],
 "metadata": {
  "kernelspec": {
   "display_name": "Python 3",
   "language": "python",
   "name": "python3"
  },
  "language_info": {
   "codemirror_mode": {
    "name": "ipython",
    "version": 3
   },
   "file_extension": ".py",
   "mimetype": "text/x-python",
   "name": "python",
   "nbconvert_exporter": "python",
   "pygments_lexer": "ipython3",
   "version": "3.12.6"
  }
 },
 "nbformat": 4,
 "nbformat_minor": 5
}
